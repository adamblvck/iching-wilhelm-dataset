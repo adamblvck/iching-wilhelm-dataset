{
 "cells": [
  {
   "cell_type": "code",
   "execution_count": 1,
   "metadata": {},
   "outputs": [],
   "source": [
    "import json"
   ]
  },
  {
   "cell_type": "markdown",
   "metadata": {},
   "source": [
    "# Let's load Wilhelm's Translation of the I-Ching, and let's poor it into a JSON & CSV file\n",
    "\n",
    "In `./iching_fulltext.md` we have a full english translation of the Wilhelm I-Ching translation. We want to write a simple parser which will take out all required pieces from the text and store it inside ann appropriately constructed JSON/CSV."
   ]
  },
  {
   "cell_type": "code",
   "execution_count": 4,
   "metadata": {},
   "outputs": [],
   "source": [
    "count = 0\n",
    "with open('./iching_fulltext.md') as f:\n",
    "    lines = f.readlines()\n",
    "\n",
    "with open('./i-ching-basic.js') as json_file:\n",
    "    iching_basic = json.load(json_file)\n",
    "\n",
    "iching_full_text = ''.join(lines)\n",
    "\n",
    "def iching_raw_text_section_split():\n",
    "    start_ii = 10 # hex 1\n",
    "    end_ii = 74 # hex 64\n",
    "\n",
    "    iching_raw = {}\n",
    "    iching_raw['hexagrams'] = {}\n",
    "    split = iching_full_text.split(\"## \")\n",
    "\n",
    "    for i in range(start_ii, end_ii):\n",
    "        iching_raw['hexagrams'][i-start_ii] = [p.split(\"\\n\") for p in split][i]\n",
    "\n",
    "    return iching_raw\n",
    "\n",
    "iching_raw = iching_raw_text_section_split()\n",
    "\n",
    "keywords = [ 'above', 'below', 'THE JUDGMENT', 'THE IMAGE', 'THE LINES' ]"
   ]
  },
  {
   "cell_type": "code",
   "execution_count": 12,
   "metadata": {},
   "outputs": [
    {
     "output_type": "execute_result",
     "data": {
      "text/plain": "['3. Chun / Difficulty at the Beginning',\n '[Back to Index](#index)',\n '',\n \"above K'AN THE ABYSMAL, WATER\",\n '',\n 'below CHêN THE AROUSING, THUNDER',\n '',\n 'The name of the hexagram, Chun, really connotes a blade of grass pushing against an obstacle as it sprouts out of the earth--hence the meaning, \"difficulty at the beginning.\" The hexagram indicates the way in which heaven and earth bring forth individual beings. It is their first meeting, which is beset with difficulties. The lower trigram Chên is the Arousing; its motion is upward and its image is thunder. The upper trigram K\\'an stands for the Abysmal, the dangerous. Its motion is downward and its image is rain. The situation points to teeming, chaotic profusion; thunder and rain fill the air. But the chaos clears up. While the Abysmal sinks, the upward movement eventually passes beyond the danger. A thunderstorm brings release from tension, and all things breathe freely again.',\n '',\n 'THE JUDGMENT',\n '',\n 'DIFFICULTY AT THE BEGINNING works supreme success,',\n 'Furthering through perseverance.',\n 'Nothing should be undertaken.',\n 'It furthers one to appoint helpers.',\n '',\n \"Times of growth are beset with difficulties. They resemble a first birth. But these difficulties arise from the very profusion of all that is struggling to attain form . Everything is in motion: therefore if one perseveres there is a prospect of great success, in spite of the existing danger. When it is a man's fate to undertake such new beginnings, everything is still unformed, dark. Hence he must hold back, because any premature move might bring disaster. Likewise, it is very important not to remain alone; in order to overcome the chaos he needs helpers. This is not to say, however, that he himself should look on passively at what is happening. He must lend his hand and participate with inspiration and guidance.\",\n '',\n 'THE IMAGE',\n '',\n 'Clouds and thunder:',\n '',\n 'The image of DIFFICULTY AT THE BEGINNING.',\n '',\n 'Thus the superior man',\n 'Brings order out of confusion.',\n '',\n \"Clouds and thunder are represented by definite decorative lines; this means that in the chaos of difficulty at the beginning, order is already implicit. So too the superior man has to arrange and organize the inchoate profusion of such times of beginning, just as one sorts out silk threads from a knotted tangle and binds them into skeins. In order to find one's place in the infinity of being, one must be able both to separate and to unite.\",\n '',\n 'THE LINES',\n '',\n 'Nine at the beginning means:',\n '',\n 'Hesitation and hindrance.',\n 'It furthers one to remain persevering.',\n 'It furthers one to appoint helpers.',\n '',\n 'If a person encounters a hindrance at the beginning of an enterprise, he must not try to force advance but must pause and take thought. However, nothing should put him off his course; he must persevere and constantly keep the goal in sight. It is important to seek out the right assistants, but he can find them only if he avoids arrogance and associated with his fellows in a spirit of humility. Only then will he attract those with whose help he can combat the difficulties.',\n '',\n 'Six in the second place means:',\n '',\n 'Difficulties pile up.',\n 'Horse and wagon part.',\n 'He is not a robber;',\n 'He wants to woo when the time comes.',\n 'The maiden is chaste,',\n 'She does not pledge herself.',\n 'Ten years--then she pledges herself.',\n '',\n 'We find ourselves beset by difficulties and hindrances. Suddenly there is a turn of affairs, as if someone were coming up with a horse and wagon and unhitching them. This event comes so unexpectedly that we assume the newcomer to be a robber. Gradually it becomes clear that he has no evil intentions but seeks to be friendly and to offer help. But this offer is not to be accepted, because it does not come from the right quarter. We must wait until the time is fulfilled; ten years is a fulfilled cycle of time. Then normal conditions return of themselves, and we can join forces with the friend intended for us. Using the image of a betrothed girl who remains true to her lover in face of grave conflicts, the hexagram gives counsel for a special situation. When in times of difficulty a hindrance is encountered and unexpected relief is offered from a source unrelated to us, we must be careful and not take upon ourselves any obligations entailed by such help; otherwise our freedom of decision is impaired. If we bide our time, things will quiet down again, and we shall attain what we have hoped for.',\n '',\n 'Six in the third place means:',\n '',\n 'Whoever hunts deer without the forester',\n 'Only loses his way in the forest.',\n 'The superior man understands the signs of the time',\n 'And prefers to desist.',\n 'To go on brings humiliation.',\n '',\n 'If a man tries to hunt in a strange forest and has no guide, he loses his way. When he finds himself in difficulties he must not try to steal out of them unthinkingly and without guidance. Fate cannot be duped; premature effort, without the necessary guidance, ends in failure and disgrace. Therefore the superior man, discerning the seeds of coming events, prefers to renounce a wish rather than to provoke failure and humiliation by trying to force its fulfillment.',\n 'Six in the fourth place means:',\n '',\n 'Horse and wagon part.',\n 'Strive for union.',\n 'To go brings good fortune.',\n 'Everything acts to further.',\n '',\n 'We are in a situation in which it is our duty to act, but we lack sufficient power. However, an opportunity to make connections offers itself. It must be seized. Neither false pride nor false reserve should deter us. Bringing oneself to take the first step, even when it involves a certain degree of self-abnegation, is a sign of inner clarity. To accept help in a difficult situation is not a disgrace. If the right helper is found, all goes well.',\n 'Nine in the fifth place means:',\n '',\n 'Difficulties in blessing.',\n 'A little perseverance brings good fortune.',\n 'Great perseverance brings misfortune.',\n '',\n 'An individual is in a position in which he cannot so express his good intentions that they will actually take shape and be understood. Other people interpose and distort everything he does. He should then be cautious and proceed step by step. He must not try to force the consummation of a great undertaking, because success is possible only when general confidence already prevails. It is only through faithful and conscientious work, unobtrusively carried on, that the situation gradually clears up and the hindrance disappears.',\n '',\n 'Six at the top means:',\n '',\n 'Horse and wagon part.',\n 'Bloody tears flow.',\n '',\n 'The difficulties at the beginning are too great for some persons. They get stuck and never find their way out; they fold their hands and give up the struggle. Such resignation is the saddest of all things. Therefore Confucius says of this line: \"Bloody tears flow: one should not persist in this.\"',\n '',\n '']"
     },
     "metadata": {},
     "execution_count": 12
    }
   ],
   "source": [
    "iching_raw['hexagrams'][2]"
   ]
  },
  {
   "cell_type": "markdown",
   "metadata": {},
   "source": [
    "We want to do the following:\n",
    "- identify lines with above keywords.\n",
    "- If they are being identified, if all are identified, it's good news\n",
    "- Then be sure to add binary notation, and PUIR-notation."
   ]
  },
  {
   "cell_type": "code",
   "execution_count": 54,
   "metadata": {},
   "outputs": [],
   "source": [
    "def wilhelm_hexagram(iching_hexagrams, idx):\n",
    "    # get a single iching hexagram\n",
    "    hexg = iching_hexagrams[idx]\n",
    "\n",
    "    # create indice arrray where keywords occur\n",
    "    idx_array = {}\n",
    "\n",
    "    # iteratie through lines in hexagram\n",
    "    for i, l in enumerate(hexg):\n",
    "\n",
    "        # now we're gonna check if the line contains a special keyword\n",
    "        for k in keywords:\n",
    "            \n",
    "            # if keyword in line\n",
    "            if k in l[:len(k)]:\n",
    "                idx_array[k] = i\n",
    "\n",
    "\n",
    "    return hexg, idx_array"
   ]
  },
  {
   "cell_type": "markdown",
   "metadata": {},
   "source": [
    "Todo:\n",
    "- Get started by addinng to a dictionary the symbolic description of the hexagram.\n",
    "- Notice that there is the LAW, and then there's the extra intepretation and explanation of that order."
   ]
  },
  {
   "cell_type": "code",
   "execution_count": 55,
   "metadata": {
    "tags": []
   },
   "outputs": [],
   "source": [
    "# print (get_basic_info(a, idx_array)+\"\\n\")\n",
    "# print (retrieve_above(a, idx_array)+\"\\n\")\n",
    "# print (retrieve_below(a, idx_array)+\"\\n\")\n",
    "# print (retrieve_symbolic(a, idx_array)+\"\\n\")\n",
    "# print (retrieve_judgment(a, idx_array)+\"\\n\")\n",
    "# print (retrieve_image(a, idx_array)+\"\\n\")\n",
    "# print (retrieve_lines(a, idx_array)+\"\\n\")"
   ]
  },
  {
   "cell_type": "code",
   "execution_count": 56,
   "metadata": {},
   "outputs": [],
   "source": [
    "iching_extented_start = {ii:item for ii, item in enumerate(iching_basic) }\n",
    "\n",
    "# iching_extented_start = \n",
    "# {0: {'hex': 1,\n",
    "#   'hex_font': '䷀',\n",
    "#   'trad_chinese': '乾',\n",
    "#   'pinyin': 'qián',\n",
    "#   'english': 'Initiating',\n",
    "#   'binary': 111111,\n",
    "#   'od': '02'},\n",
    "#  1: {'hex': 2,\n",
    "#   'hex_font': '䷁',\n",
    "#   ...\n",
    "#   }\n",
    "# }"
   ]
  },
  {
   "cell_type": "code",
   "execution_count": 73,
   "metadata": {
    "tags": []
   },
   "outputs": [
    {
     "output_type": "stream",
     "name": "stdout",
     "text": "0 series\nabove CH'IEN THE CREATIVE, HEAVEN\nbelow CH'IEN THE CREATIVE, HEAVEN\n\n1 series\nabove K'UN THE RECEPTIVE, EARTH\nbelow K'UN THE RECEPTIVE, EARTH\n\n2 series\nabove K'AN THE ABYSMAL, WATER\nbelow CHêN THE AROUSING, THUNDER\n\n3 series\nabove KêN KEEPING STILL, MOUNTAIN\nbelow K'AN THE ABYSMAL, WATER\n\n"
    }
   ],
   "source": [
    "for kk, hexagram in iching_extented_start.items():\n",
    "    # retrieve hexagram text on key kk, then  \n",
    "    print(kk, \"series\")\n",
    "    hex_wilhelm, markers = wilhelm_hexagram(iching_raw['hexagrams'], kk)\n",
    "    print (retrieve_above(hex_wilhelm, markers))\n",
    "    print (retrieve_below(hex_wilhelm, markers))\n",
    "\n",
    "    hexagram['wilhelm_above'] = retrieve_above(hex_wilhelm, markers)\n",
    "    hexagram['wilhelm_below'] = retrieve_below(hex_wilhelm, markers)\n",
    "    hexagram['wilhelm_symbolic'] = retrieve_symbolic(hex_wilhelm, markers)\n",
    "    hexagram['wilhelm_judgment'] = retrieve_judgment(hex_wilhelm, markers)\n",
    "    hexagram['wilhelm_image'] = retrieve_image(hex_wilhelm, markers)\n",
    "    hexagram['wilhelm_lines'] = retrieve_lines(hex_wilhelm, markers)\n",
    "\n",
    "    print(\"\")\n",
    "    if kk == 3:\n",
    "        break\n"
   ]
  },
  {
   "cell_type": "code",
   "execution_count": null,
   "metadata": {},
   "outputs": [],
   "source": []
  },
  {
   "cell_type": "code",
   "execution_count": 74,
   "metadata": {},
   "outputs": [
    {
     "output_type": "execute_result",
     "data": {
      "text/plain": "{'hex': 3,\n 'hex_font': '䷂',\n 'trad_chinese': '屯',\n 'pinyin': 'zhūn',\n 'english': 'Beginning',\n 'binary': '010001',\n 'od': 50,\n 'above': \"above K'AN THE ABYSMAL, WATER\",\n 'below': 'below CHêN THE AROUSING, THUNDER',\n 'wilhelm_above': \"above K'AN THE ABYSMAL, WATER\",\n 'wilhelm_below': 'below CHêN THE AROUSING, THUNDER',\n 'wilhelm_symbolic': '\\nThe name of the hexagram, Chun, really connotes a blade of grass pushing against an obstacle as it sprouts out of the earth--hence the meaning, \"difficulty at the beginning.\" The hexagram indicates the way in which heaven and earth bring forth individual beings. It is their first meeting, which is beset with difficulties. The lower trigram Chên is the Arousing; its motion is upward and its image is thunder. The upper trigram K\\'an stands for the Abysmal, the dangerous. Its motion is downward and its image is rain. The situation points to teeming, chaotic profusion; thunder and rain fill the air. But the chaos clears up. While the Abysmal sinks, the upward movement eventually passes beyond the danger. A thunderstorm brings release from tension, and all things breathe freely again.\\n',\n 'wilhelm_judgment': \"\\nDIFFICULTY AT THE BEGINNING works supreme success,\\nFurthering through perseverance.\\nNothing should be undertaken.\\nIt furthers one to appoint helpers.\\n\\nTimes of growth are beset with difficulties. They resemble a first birth. But these difficulties arise from the very profusion of all that is struggling to attain form . Everything is in motion: therefore if one perseveres there is a prospect of great success, in spite of the existing danger. When it is a man's fate to undertake such new beginnings, everything is still unformed, dark. Hence he must hold back, because any premature move might bring disaster. Likewise, it is very important not to remain alone; in order to overcome the chaos he needs helpers. This is not to say, however, that he himself should look on passively at what is happening. He must lend his hand and participate with inspiration and guidance.\\n\",\n 'wilhelm_image': \"\\nClouds and thunder:\\n\\nThe image of DIFFICULTY AT THE BEGINNING.\\n\\nThus the superior man\\nBrings order out of confusion.\\n\\nClouds and thunder are represented by definite decorative lines; this means that in the chaos of difficulty at the beginning, order is already implicit. So too the superior man has to arrange and organize the inchoate profusion of such times of beginning, just as one sorts out silk threads from a knotted tangle and binds them into skeins. In order to find one's place in the infinity of being, one must be able both to separate and to unite.\\n\",\n 'wilhelm_lines': '\\nNine at the beginning means:\\n\\nHesitation and hindrance.\\nIt furthers one to remain persevering.\\nIt furthers one to appoint helpers.\\n\\nIf a person encounters a hindrance at the beginning of an enterprise, he must not try to force advance but must pause and take thought. However, nothing should put him off his course; he must persevere and constantly keep the goal in sight. It is important to seek out the right assistants, but he can find them only if he avoids arrogance and associated with his fellows in a spirit of humility. Only then will he attract those with whose help he can combat the difficulties.\\n\\nSix in the second place means:\\n\\nDifficulties pile up.\\nHorse and wagon part.\\nHe is not a robber;\\nHe wants to woo when the time comes.\\nThe maiden is chaste,\\nShe does not pledge herself.\\nTen years--then she pledges herself.\\n\\nWe find ourselves beset by difficulties and hindrances. Suddenly there is a turn of affairs, as if someone were coming up with a horse and wagon and unhitching them. This event comes so unexpectedly that we assume the newcomer to be a robber. Gradually it becomes clear that he has no evil intentions but seeks to be friendly and to offer help. But this offer is not to be accepted, because it does not come from the right quarter. We must wait until the time is fulfilled; ten years is a fulfilled cycle of time. Then normal conditions return of themselves, and we can join forces with the friend intended for us. Using the image of a betrothed girl who remains true to her lover in face of grave conflicts, the hexagram gives counsel for a special situation. When in times of difficulty a hindrance is encountered and unexpected relief is offered from a source unrelated to us, we must be careful and not take upon ourselves any obligations entailed by such help; otherwise our freedom of decision is impaired. If we bide our time, things will quiet down again, and we shall attain what we have hoped for.\\n\\nSix in the third place means:\\n\\nWhoever hunts deer without the forester\\nOnly loses his way in the forest.\\nThe superior man understands the signs of the time\\nAnd prefers to desist.\\nTo go on brings humiliation.\\n\\nIf a man tries to hunt in a strange forest and has no guide, he loses his way. When he finds himself in difficulties he must not try to steal out of them unthinkingly and without guidance. Fate cannot be duped; premature effort, without the necessary guidance, ends in failure and disgrace. Therefore the superior man, discerning the seeds of coming events, prefers to renounce a wish rather than to provoke failure and humiliation by trying to force its fulfillment.\\nSix in the fourth place means:\\n\\nHorse and wagon part.\\nStrive for union.\\nTo go brings good fortune.\\nEverything acts to further.\\n\\nWe are in a situation in which it is our duty to act, but we lack sufficient power. However, an opportunity to make connections offers itself. It must be seized. Neither false pride nor false reserve should deter us. Bringing oneself to take the first step, even when it involves a certain degree of self-abnegation, is a sign of inner clarity. To accept help in a difficult situation is not a disgrace. If the right helper is found, all goes well.\\nNine in the fifth place means:\\n\\nDifficulties in blessing.\\nA little perseverance brings good fortune.\\nGreat perseverance brings misfortune.\\n\\nAn individual is in a position in which he cannot so express his good intentions that they will actually take shape and be understood. Other people interpose and distort everything he does. He should then be cautious and proceed step by step. He must not try to force the consummation of a great undertaking, because success is possible only when general confidence already prevails. It is only through faithful and conscientious work, unobtrusively carried on, that the situation gradually clears up and the hindrance disappears.\\n\\nSix at the top means:\\n\\nHorse and wagon part.\\nBloody tears flow.\\n\\nThe difficulties at the beginning are too great for some persons. They get stuck and never find their way out; they fold their hands and give up the struggle. Such resignation is the saddest of all things. Therefore Confucius says of this line: \"Bloody tears flow: one should not persist in this.\"\\n\\n'}"
     },
     "metadata": {},
     "execution_count": 74
    }
   ],
   "source": [
    "iching_extented_start[2]"
   ]
  },
  {
   "cell_type": "code",
   "execution_count": 77,
   "metadata": {},
   "outputs": [],
   "source": [
    "with open('data.txt', 'w') as outfile:\n",
    "    json.dump(iching_extented_start, outfile)"
   ]
  },
  {
   "cell_type": "code",
   "execution_count": 76,
   "metadata": {},
   "outputs": [
    {
     "output_type": "error",
     "ename": "NameError",
     "evalue": "name 'data' is not defined",
     "traceback": [
      "\u001b[0;31m---------------------------------------------------------------------------\u001b[0m",
      "\u001b[0;31mNameError\u001b[0m                                 Traceback (most recent call last)",
      "\u001b[0;32m<ipython-input-76-deed1e16b400>\u001b[0m in \u001b[0;36m<module>\u001b[0;34m\u001b[0m\n\u001b[1;32m      1\u001b[0m \u001b[0;32mwith\u001b[0m \u001b[0mopen\u001b[0m\u001b[0;34m(\u001b[0m\u001b[0;34m'iching_extented_start.json'\u001b[0m\u001b[0;34m,\u001b[0m \u001b[0;34m'w'\u001b[0m\u001b[0;34m)\u001b[0m \u001b[0;32mas\u001b[0m \u001b[0moutfile\u001b[0m\u001b[0;34m:\u001b[0m\u001b[0;34m\u001b[0m\u001b[0;34m\u001b[0m\u001b[0m\n\u001b[0;32m----> 2\u001b[0;31m     \u001b[0mjson\u001b[0m\u001b[0;34m.\u001b[0m\u001b[0mdump\u001b[0m\u001b[0;34m(\u001b[0m\u001b[0mdata\u001b[0m\u001b[0;34m,\u001b[0m \u001b[0moutfile\u001b[0m\u001b[0;34m)\u001b[0m\u001b[0;34m\u001b[0m\u001b[0;34m\u001b[0m\u001b[0m\n\u001b[0m",
      "\u001b[0;31mNameError\u001b[0m: name 'data' is not defined"
     ]
    }
   ],
   "source": [
    "with open('iching_extented_start.json', 'w') as outfile:\n",
    "    json.dump(data, outfile)"
   ]
  },
  {
   "cell_type": "code",
   "execution_count": 20,
   "metadata": {},
   "outputs": [
    {
     "output_type": "execute_result",
     "data": {
      "text/plain": "\"above K'UN THE RECEPTIVE, EARTH\""
     },
     "metadata": {},
     "execution_count": 20
    }
   ],
   "source": [
    "retrieve_above(a, idx_array)"
   ]
  },
  {
   "cell_type": "code",
   "execution_count": 60,
   "metadata": {},
   "outputs": [],
   "source": [
    "def get_basic_info(hex_text, indices):\n",
    "    \"\"\"  \"\"\"\n",
    "    return hex_text[0]\n",
    "\n",
    "def retrieve_above(hex_text, indices):\n",
    "    \"\"\"  \"\"\"\n",
    "    above_text = hex_text[indices['above']]\n",
    "    return above_text\n",
    "\n",
    "def retrieve_below(hex_text, indices):\n",
    "    \"\"\"  \"\"\"\n",
    "    below_text = hex_text[indices['below']]\n",
    "    return below_text\n",
    "\n",
    "def retrieve_symbolic(hex_text, indices):\n",
    "    \"\"\"  \"\"\"\n",
    "    symbolic_text = '\\n'.join( hex_text[indices['below']+1: indices['THE JUDGMENT']])\n",
    "    return symbolic_text\n",
    "\n",
    "def retrieve_judgment(hex_text, indices):\n",
    "    \"\"\"  \"\"\"\n",
    "    judgment_text = '\\n'.join( hex_text[indices['THE JUDGMENT']+1: indices['THE IMAGE']])\n",
    "    return judgment_text\n",
    "\n",
    "def retrieve_image(hex_text, indices):\n",
    "    \"\"\"  \"\"\"\n",
    "    image_text = '\\n'.join( hex_text[indices['THE IMAGE']+1: indices['THE LINES']])\n",
    "    return image_text\n",
    "\n",
    "def retrieve_lines(hex_text, indices):\n",
    "    \"\"\" Retrieve symbolic language, and interpretation\"\"\"\n",
    "    lines_text = '\\n'.join( hex_text[indices['THE LINES']+1:])\n",
    "    return lines_text"
   ]
  },
  {
   "cell_type": "code",
   "execution_count": null,
   "metadata": {},
   "outputs": [],
   "source": []
  },
  {
   "cell_type": "code",
   "execution_count": null,
   "metadata": {},
   "outputs": [],
   "source": []
  },
  {
   "cell_type": "code",
   "execution_count": null,
   "metadata": {},
   "outputs": [],
   "source": []
  },
  {
   "cell_type": "code",
   "execution_count": 61,
   "metadata": {},
   "outputs": [
    {
     "output_type": "execute_result",
     "data": {
      "text/plain": "[\"2. K'un / The Receptive\",\n '[Back to Index](#index)',\n '',\n \"above K'UN THE RECEPTIVE, EARTH\",\n '',\n \"below K'UN THE RECEPTIVE, EARTH\",\n '',\n 'This hexagram is made up of broken lines only. The broken lines represents the dark, yielding, receptive primal power of yin. The attribute of the hexagram is devotion; its image is the earth. It is the perfect complement of THE CREATIVE--the complement, not the opposite, for the Receptive does not combat the Creative but completes it . It represents nature in contrast to spirit, earth in contrast to heaven, space as against time, the female-maternal as against the male-paternal. However, as applied to human affairs, the principle of this complementary relationship is found not only in the relation between man and woman, but also in that between prince and minister and between father and son. Indeed, even in the individual this duality appears in the coexistence of the spiritual world and the world of the senses. But strictly speaking there is no real dualism here, because there is a clearly defined hierarchic relationship between the two principles. In itself of course the Receptive is just as important as the Creative, but the attribute of devotion defines the place occupied by this primal power in relation to the Creative. For the Receptive must be activated and led by the Creative; then it is productive of good. Only when it abandons this position and tries to stand as an equal side by side with the Creative, does it become evil. The result then is opposition to and struggle against the Creative, which is productive of evil to both.',\n '',\n 'THE JUDGMENT',\n '',\n 'THE RECEPTIVE brings about sublime success,',\n 'Furthering through the perseverance of a mare.',\n 'If the superior man undertakes something and tries to lead,',\n 'He goes astray;',\n 'But if he follows, he finds guidance.',\n 'It is favorable to find friends in the west and south,',\n 'To forego friends in the east and north.',\n 'Quiet perseverance brings good fortune.',\n '',\n 'The four fundamental aspects of the Creative--\"sublime success, furthering through perseverance\"--are also attributed to the Receptive. Here, however, the perseverance is more closely defined: it is that of a mare. The Receptive connotes spatial reality in contrast to the spiritual potentiality of the Creative. The potential becomes real and the spiritual becomes spatial through a specifically qualifying definition. Thus the qualification, \"of a mare,\" is here added to the idea of perseverance. The horse belongs to earth just as the dragon belongs to heaven. Its tireless roaming over the plains is taken as a symbol of the vast expanse of the earth. This is the symbol chosen because the mare combines the strength and swiftness of the horse with the gentleness and devotion of the cow. Only because nature in its myriad forms corresponds with the myriad impulses of the Creative can it make these impulses real. Nature\\'s richness lies in its power to nourish all living things; its greatness lies in its power to give then beauty and splendor. Thus it prospers all that lives. IT is the Creative that begets things, but they are brought to birth by the Receptive. Applied to human affairs, therefore, what the hexagram indicated is action in conformity with the situation. The person in questions not in an independent position, but is acting as an assistant. This means that he must achieve something. It is not his task to try to lead--that would only make him lose the way-but to let himself be led. If he knows how to meet fate with an attitude of acceptance, he is sure to find the right guidance. The superior man lets himself be guided; he does not go ahead blindly, but learns from the situation what is demanded of him and then follows this intimation from fate. Since there is something to be accomplished, we need friends and helpers in the hour of toil and effort, once the ideas to be realized are firmly set. The time of toil and effort is indicated by the west and south, for west and south symbolize the place where the Receptive works for the Creative, as nature does in summer and autumn. If in that situation one does not mobilize all one\\'s powers, the work to be accomplished will not be done. Hence to find friends there means to find guidance. But in addition to the time of toil and effort, there is also a time of planning, and for this we need this solitude. The east symbolized the place where a man receives orders from his master, and the north the place where he reports on what he has done. At that time he must be alone and objective. In this sacred hour he must do without companions. So that the purity of the moment may not be spoiled by fictional hates and favoritism.',\n '',\n 'THE IMAGE',\n '',\n \"The earth's condition is receptive devotion.\",\n 'Thus the superior man who has breadth of character',\n 'Carries the outer world.',\n '',\n 'Just as there is only one heaven, so too there is only one earth. In the hexagram of heaven the doubling of the trigram implies duration in time, but in the hexagram of earth the doubling connotes the solidity and extension in space by virtue of which the earth is able to carry and preserve all things that live and move upon it. The earth in its devotion carries all things, good and evil,, without exception. In the same way the superior man gives to his character breadth, purity, and sustaining power, so that he is able both to support and to bear with people and things.',\n '',\n 'THE LINES',\n '',\n 'Six at the beginning means:',\n '',\n 'When there is hoarfrost underfoot,',\n 'Solid ice is not far off.',\n '',\n 'Just as the light-giving power represents life, so the dark power, the shadowy, represents death. When the first hoarfrost comes in the autumn, the power of darkness and cold is just at its beginning. After these first warnings, signs of death will gradually multiply, until, in obedience to immutable laws, stark winter with its ice is here. In life it is the same. After certain scarcely noticeable signs of decay have appeared, they go on increasing until final dissolution comes. But in life precautions can be taken by heeding the first signs of decay and checking them in time.',\n '',\n 'Six in the second place means:',\n '',\n 'Straight, square, great.',\n 'Without purpose,',\n 'Yet nothing remains unfurthered.',\n '',\n \"The symbol of heaven is the circle, and that of earth is the square. Thus squareness is a primary quality of the earth. On the other hand, movement in a straight line, as well as magnitude, is a primary quality of the Creative. But all square things have their origin in a straight line and into turn form solid bodies. In mathematics, when we discriminate between lines, planes and solids, we find that rectangular planes result from straight lines, and cubic magnitudes from rectangular planes. The Receptive accommodates itself to the qualities of the Creative and makes them its own. Thus a square develops out of a straight line and a cube out of a square. This is compliance with the laws of the Creative; nothing is taken away, nothing added. Therefore the Receptive has no need of a special purpose of its own, nor of any effort' yet everything turns out as it should. Nature creates all beings without erring: this is its foursquareness. It tolerates all creatures equally: this is its greatness. Therefore it attains what is right for all without artifice or special intentions. Man achieves the height of wisdom when all that he does is as self-evident as what nature does.\",\n '',\n 'Six in the third place means:',\n '',\n 'Hidden lines.',\n 'One is able to remain persevering.',\n 'If by chance you are in the service of a king,',\n 'Seek not works, but bring to completion.',\n '',\n 'If a man is free of vanity he is able to conceal his abilities and keep them from attracting attention too soon; thus he can mature undisturbed. If conditions demand it, he can also enter public life, but that too he does with restraint. The wise man gladly leaves fame to others. He does not seek to have credited to himself things that stand accomplished, but hopes to release active forces; that is, he completes his works in such a manner that they may bear fruit for the future.',\n '',\n 'Six in the fourth place means:',\n '',\n 'A tied-up sack. No blame, no praise.',\n '',\n 'The dark element opens when it moves and closes when at rest. The strictest reticence is indicated here. The time is dangerous , because any degree of prominence leads either to the enmity of irresistible antagonists if one challenges them or to misconceived recognition if one is complaisant. Therefore a man ought to maintain reserve, be it in solitude or in the turmoil of the world, for there too he can hide himself so well that no one knows him.',\n '',\n 'Six in the fifth place means:',\n '',\n 'A yellow lower garment brings supreme good fortune.',\n '',\n \"Yellow is the color of the earth and of the middle; it is the symbol of that which is reliable and genuine. The lower garment is inconspicuously decorated--the symbol of aristocratic reserve. When anyone is called upon to work in a prominent but not independent position, true success depends on the utmost discretion. A man's genuineness and refinement should not reveal themselves directly; they should express themselves only indirectly as an effect from within.\",\n '',\n 'Six at the top means:',\n '',\n 'Dragons fight in the meadow.',\n 'Their blood is black and yellow.',\n '',\n 'In the top place the dark element should yield to the light. If it attempts to maintain a position to which it is not entitled and to rule instead of serving, it draws down upon itself the anger of the strong. A struggle ensues in which it is overthrown, with injury, however, to both sides. The dragon, symbol of heaven, comes to fight the false dragon that symbolized the inflation of the earth principle. Midnight blue is the color of heaven; yellow is the color of earth. Therefore, when black and yellow blood flow, it is a sign that in this unnatural contest both primal powers suffer injury.',\n '',\n 'When all the lines are sixes, it means:',\n '',\n 'Lasting perseverance furthers.',\n '',\n 'When nothing but sixes appears, the hexagram of THE RECEPTIVE changes into the hexagram of THE CREATIVE. By holding fast to what is right, it gains the power of enduring. There is indeed no advance, but neither is there retrogression.',\n '',\n '',\n '']"
     },
     "metadata": {},
     "execution_count": 61
    }
   ],
   "source": [
    "iching_raw['hexagrams'][1]"
   ]
  },
  {
   "cell_type": "code",
   "execution_count": null,
   "metadata": {},
   "outputs": [],
   "source": []
  }
 ],
 "metadata": {
  "language_info": {
   "codemirror_mode": {
    "name": "ipython",
    "version": 3
   },
   "file_extension": ".py",
   "mimetype": "text/x-python",
   "name": "python",
   "nbconvert_exporter": "python",
   "pygments_lexer": "ipython3",
   "version": "3.6.9-final"
  },
  "orig_nbformat": 2,
  "kernelspec": {
   "name": "drlnd",
   "display_name": "drlnd"
  }
 },
 "nbformat": 4,
 "nbformat_minor": 2
}