{
 "cells": [
  {
   "cell_type": "code",
   "execution_count": 131,
   "metadata": {},
   "outputs": [],
   "source": [
    "import json"
   ]
  },
  {
   "cell_type": "markdown",
   "metadata": {},
   "source": [
    "# Let's load Wilhelm's Translation of the I-Ching, and let's pour it into a JSON & CSV file\n",
    "\n",
    "In `./iching_fulltext.md` we have a full english translation of the Wilhelm I-Ching translation. We want to write a simple parser which will take out all required pieces from the text and store it inside ann appropriately constructed JSON/CSV."
   ]
  },
  {
   "cell_type": "code",
   "execution_count": 141,
   "metadata": {},
   "outputs": [],
   "source": [
    "count = 0\n",
    "with open('./iching_fulltext.md') as f:\n",
    "    lines = f.readlines()\n"
   ]
  },
  {
   "cell_type": "code",
   "execution_count": 143,
   "metadata": {
    "tags": []
   },
   "outputs": [],
   "source": [
    "with open('./i-ching-basic.js') as json_file:\n",
    "    data = json.load(json_file)\n"
   ]
  },
  {
   "cell_type": "code",
   "execution_count": 144,
   "metadata": {},
   "outputs": [],
   "source": [
    "iching_full_text = ''.join(lines)"
   ]
  },
  {
   "cell_type": "code",
   "execution_count": 145,
   "metadata": {
    "tags": []
   },
   "outputs": [],
   "source": [
    "def iching_raw_text_section_split():\n",
    "    start_ii = 10 # hex 1\n",
    "    end_ii = 74 # hex 64\n",
    "\n",
    "    iching_raw = {}\n",
    "    iching_raw['hexagrams'] = {}\n",
    "    split = iching_full_text.split(\"## \")\n",
    "\n",
    "    for i in range(start_ii, end_ii):\n",
    "        iching_raw['hexagrams'][i-start_ii] = [p.split(\"\\n\") for p in split][i]\n",
    "\n",
    "    return iching_raw\n",
    "\n",
    "#iching_raw['hexagrams'][0]"
   ]
  },
  {
   "cell_type": "code",
   "execution_count": 146,
   "metadata": {},
   "outputs": [],
   "source": [
    "iching_raw = iching_raw_text_section_split()"
   ]
  },
  {
   "cell_type": "code",
   "execution_count": 147,
   "metadata": {},
   "outputs": [],
   "source": [
    "keywords = [ 'above', 'below', 'THE JUDGMENT', 'THE IMAGE', 'THE LINES' ]"
   ]
  },
  {
   "cell_type": "markdown",
   "metadata": {},
   "source": [
    "We want to do the following:\n",
    "- identify lines with above keywords.\n",
    "- If they are being identified, if all are identified, it's good news\n",
    "- Then be sure to add binary notation, and PUIR-notation."
   ]
  },
  {
   "cell_type": "code",
   "execution_count": 148,
   "metadata": {},
   "outputs": [],
   "source": [
    "a = iching_raw['hexagrams'][1]"
   ]
  },
  {
   "cell_type": "code",
   "execution_count": 149,
   "metadata": {
    "tags": []
   },
   "outputs": [],
   "source": [
    "idx_array = {}\n",
    "for i, l in enumerate(a):\n",
    "    # print (i)\n",
    "    for k in keywords:\n",
    "        # print(k)\n",
    "        if k in l:\n",
    "            idx_array[k] = i"
   ]
  },
  {
   "cell_type": "code",
   "execution_count": 150,
   "metadata": {},
   "outputs": [
    {
     "output_type": "execute_result",
     "data": {
      "text/plain": "{'above': 3, 'below': 5, 'THE JUDGMENT': 9, 'THE IMAGE': 22, 'THE LINES': 30}"
     },
     "metadata": {},
     "execution_count": 150
    }
   ],
   "source": [
    "idx_array"
   ]
  },
  {
   "cell_type": "code",
   "execution_count": 151,
   "metadata": {
    "tags": []
   },
   "outputs": [
    {
     "output_type": "stream",
     "name": "stdout",
     "text": "2. K'un / The Receptive\n\nabove K'UN THE RECEPTIVE, EARTH\n\nbelow K'UN THE RECEPTIVE, EARTH\n\n\nThis hexagram is made up of broken lines only. The broken lines represents the dark, yielding, receptive primal power of yin. The attribute of the hexagram is devotion; its image is the earth. It is the perfect complement of THE CREATIVE--the complement, not the opposite, for the Receptive does not combat the Creative but completes it . It represents nature in contrast to spirit, earth in contrast to heaven, space as against time, the female-maternal as against the male-paternal. However, as applied to human affairs, the principle of this complementary relationship is found not only in the relation between man and woman, but also in that between prince and minister and between father and son. Indeed, even in the individual this duality appears in the coexistence of the spiritual world and the world of the senses. But strictly speaking there is no real dualism here, because there is a clearly defined hierarchic relationship between the two principles. In itself of course the Receptive is just as important as the Creative, but the attribute of devotion defines the place occupied by this primal power in relation to the Creative. For the Receptive must be activated and led by the Creative; then it is productive of good. Only when it abandons this position and tries to stand as an equal side by side with the Creative, does it become evil. The result then is opposition to and struggle against the Creative, which is productive of evil to both.\n\n\n\nTHE RECEPTIVE brings about sublime success,\nFurthering through the perseverance of a mare.\nIf the superior man undertakes something and tries to lead,\nHe goes astray;\nBut if he follows, he finds guidance.\nIt is favorable to find friends in the west and south,\nTo forego friends in the east and north.\nQuiet perseverance brings good fortune.\n\nThe four fundamental aspects of the Creative--\"sublime success, furthering through perseverance\"--are also attributed to the Receptive. Here, however, the perseverance is more closely defined: it is that of a mare. The Receptive connotes spatial reality in contrast to the spiritual potentiality of the Creative. The potential becomes real and the spiritual becomes spatial through a specifically qualifying definition. Thus the qualification, \"of a mare,\" is here added to the idea of perseverance. The horse belongs to earth just as the dragon belongs to heaven. Its tireless roaming over the plains is taken as a symbol of the vast expanse of the earth. This is the symbol chosen because the mare combines the strength and swiftness of the horse with the gentleness and devotion of the cow. Only because nature in its myriad forms corresponds with the myriad impulses of the Creative can it make these impulses real. Nature's richness lies in its power to nourish all living things; its greatness lies in its power to give then beauty and splendor. Thus it prospers all that lives. IT is the Creative that begets things, but they are brought to birth by the Receptive. Applied to human affairs, therefore, what the hexagram indicated is action in conformity with the situation. The person in questions not in an independent position, but is acting as an assistant. This means that he must achieve something. It is not his task to try to lead--that would only make him lose the way-but to let himself be led. If he knows how to meet fate with an attitude of acceptance, he is sure to find the right guidance. The superior man lets himself be guided; he does not go ahead blindly, but learns from the situation what is demanded of him and then follows this intimation from fate. Since there is something to be accomplished, we need friends and helpers in the hour of toil and effort, once the ideas to be realized are firmly set. The time of toil and effort is indicated by the west and south, for west and south symbolize the place where the Receptive works for the Creative, as nature does in summer and autumn. If in that situation one does not mobilize all one's powers, the work to be accomplished will not be done. Hence to find friends there means to find guidance. But in addition to the time of toil and effort, there is also a time of planning, and for this we need this solitude. The east symbolized the place where a man receives orders from his master, and the north the place where he reports on what he has done. At that time he must be alone and objective. In this sacred hour he must do without companions. So that the purity of the moment may not be spoiled by fictional hates and favoritism.\n\n\n\nThe earth's condition is receptive devotion.\nThus the superior man who has breadth of character\nCarries the outer world.\n\nJust as there is only one heaven, so too there is only one earth. In the hexagram of heaven the doubling of the trigram implies duration in time, but in the hexagram of earth the doubling connotes the solidity and extension in space by virtue of which the earth is able to carry and preserve all things that live and move upon it. The earth in its devotion carries all things, good and evil,, without exception. In the same way the superior man gives to his character breadth, purity, and sustaining power, so that he is able both to support and to bear with people and things.\n\n\n\nSix at the beginning means:\n\nWhen there is hoarfrost underfoot,\nSolid ice is not far off.\n\nJust as the light-giving power represents life, so the dark power, the shadowy, represents death. When the first hoarfrost comes in the autumn, the power of darkness and cold is just at its beginning. After these first warnings, signs of death will gradually multiply, until, in obedience to immutable laws, stark winter with its ice is here. In life it is the same. After certain scarcely noticeable signs of decay have appeared, they go on increasing until final dissolution comes. But in life precautions can be taken by heeding the first signs of decay and checking them in time.\n\nSix in the second place means:\n\nStraight, square, great.\nWithout purpose,\nYet nothing remains unfurthered.\n\nThe symbol of heaven is the circle, and that of earth is the square. Thus squareness is a primary quality of the earth. On the other hand, movement in a straight line, as well as magnitude, is a primary quality of the Creative. But all square things have their origin in a straight line and into turn form solid bodies. In mathematics, when we discriminate between lines, planes and solids, we find that rectangular planes result from straight lines, and cubic magnitudes from rectangular planes. The Receptive accommodates itself to the qualities of the Creative and makes them its own. Thus a square develops out of a straight line and a cube out of a square. This is compliance with the laws of the Creative; nothing is taken away, nothing added. Therefore the Receptive has no need of a special purpose of its own, nor of any effort' yet everything turns out as it should. Nature creates all beings without erring: this is its foursquareness. It tolerates all creatures equally: this is its greatness. Therefore it attains what is right for all without artifice or special intentions. Man achieves the height of wisdom when all that he does is as self-evident as what nature does.\n\nSix in the third place means:\n\nHidden lines.\nOne is able to remain persevering.\nIf by chance you are in the service of a king,\nSeek not works, but bring to completion.\n\nIf a man is free of vanity he is able to conceal his abilities and keep them from attracting attention too soon; thus he can mature undisturbed. If conditions demand it, he can also enter public life, but that too he does with restraint. The wise man gladly leaves fame to others. He does not seek to have credited to himself things that stand accomplished, but hopes to release active forces; that is, he completes his works in such a manner that they may bear fruit for the future.\n\nSix in the fourth place means:\n\nA tied-up sack. No blame, no praise.\n\nThe dark element opens when it moves and closes when at rest. The strictest reticence is indicated here. The time is dangerous , because any degree of prominence leads either to the enmity of irresistible antagonists if one challenges them or to misconceived recognition if one is complaisant. Therefore a man ought to maintain reserve, be it in solitude or in the turmoil of the world, for there too he can hide himself so well that no one knows him.\n\nSix in the fifth place means:\n\nA yellow lower garment brings supreme good fortune.\n\nYellow is the color of the earth and of the middle; it is the symbol of that which is reliable and genuine. The lower garment is inconspicuously decorated--the symbol of aristocratic reserve. When anyone is called upon to work in a prominent but not independent position, true success depends on the utmost discretion. A man's genuineness and refinement should not reveal themselves directly; they should express themselves only indirectly as an effect from within.\n\nSix at the top means:\n\nDragons fight in the meadow.\nTheir blood is black and yellow.\n\nIn the top place the dark element should yield to the light. If it attempts to maintain a position to which it is not entitled and to rule instead of serving, it draws down upon itself the anger of the strong. A struggle ensues in which it is overthrown, with injury, however, to both sides. The dragon, symbol of heaven, comes to fight the false dragon that symbolized the inflation of the earth principle. Midnight blue is the color of heaven; yellow is the color of earth. Therefore, when black and yellow blood flow, it is a sign that in this unnatural contest both primal powers suffer injury.\n\nWhen all the lines are sixes, it means:\n\nLasting perseverance furthers.\n\nWhen nothing but sixes appears, the hexagram of THE RECEPTIVE changes into the hexagram of THE CREATIVE. By holding fast to what is right, it gains the power of enduring. There is indeed no advance, but neither is there retrogression.\n\n\n\n\n"
    }
   ],
   "source": [
    "print (get_basic_info(a, idx_array)+\"\\n\")\n",
    "print (retrieve_above(a, idx_array)+\"\\n\")\n",
    "print (retrieve_below(a, idx_array)+\"\\n\")\n",
    "print (retrieve_symbolic(a, idx_array)+\"\\n\")\n",
    "print (retrieve_judgment(a, idx_array)+\"\\n\")\n",
    "print (retrieve_image(a, idx_array)+\"\\n\")\n",
    "print (retrieve_lines(a, idx_array)+\"\\n\")"
   ]
  },
  {
   "cell_type": "code",
   "execution_count": 128,
   "metadata": {},
   "outputs": [],
   "source": [
    "def get_basic_info(hex_text, indices):\n",
    "    \"\"\"  \"\"\"\n",
    "    return hex_text[0]\n",
    "\n",
    "def retrieve_above(hex_text, indices):\n",
    "    \"\"\"  \"\"\"\n",
    "    above_text = hex_text[indices['above']]\n",
    "    return above_text\n",
    "\n",
    "def retrieve_below(hex_text, indices):\n",
    "    \"\"\"  \"\"\"\n",
    "    below_text = hex_text[indices['below']]\n",
    "    return below_text\n",
    "\n",
    "def retrieve_symbolic(hex_text, indices):\n",
    "    \"\"\"  \"\"\"\n",
    "    symbolic_text = '\\n'.join( hex_text[indices['below']+1: indices['THE JUDGMENT']])\n",
    "    return symbolic_text\n",
    "\n",
    "def retrieve_judgment(hex_text, indices):\n",
    "    \"\"\"  \"\"\"\n",
    "    judgment_text = '\\n'.join( hex_text[indices['THE JUDGMENT']+1: indices['THE IMAGE']])\n",
    "    return judgment_text\n",
    "\n",
    "def retrieve_image(hex_text, indices):\n",
    "    \"\"\"  \"\"\"\n",
    "    image_text = '\\n'.join( hex_text[indices['THE IMAGE']+1: indices['THE LINES']])\n",
    "    return image_text\n",
    "\n",
    "def retrieve_lines(hex_text, indices):\n",
    "    \"\"\" Retrieve symbolic language, and interpretation\"\"\"\n",
    "    lines_text = '\\n'.join( hex_text[indices['THE LINES']+1:])\n",
    "    return lines_text"
   ]
  },
  {
   "cell_type": "code",
   "execution_count": null,
   "metadata": {},
   "outputs": [],
   "source": []
  },
  {
   "cell_type": "code",
   "execution_count": null,
   "metadata": {},
   "outputs": [],
   "source": []
  },
  {
   "cell_type": "code",
   "execution_count": null,
   "metadata": {},
   "outputs": [],
   "source": []
  },
  {
   "cell_type": "code",
   "execution_count": 61,
   "metadata": {},
   "outputs": [
    {
     "output_type": "execute_result",
     "data": {
      "text/plain": "[\"2. K'un / The Receptive\",\n '[Back to Index](#index)',\n '',\n \"above K'UN THE RECEPTIVE, EARTH\",\n '',\n \"below K'UN THE RECEPTIVE, EARTH\",\n '',\n 'This hexagram is made up of broken lines only. The broken lines represents the dark, yielding, receptive primal power of yin. The attribute of the hexagram is devotion; its image is the earth. It is the perfect complement of THE CREATIVE--the complement, not the opposite, for the Receptive does not combat the Creative but completes it . It represents nature in contrast to spirit, earth in contrast to heaven, space as against time, the female-maternal as against the male-paternal. However, as applied to human affairs, the principle of this complementary relationship is found not only in the relation between man and woman, but also in that between prince and minister and between father and son. Indeed, even in the individual this duality appears in the coexistence of the spiritual world and the world of the senses. But strictly speaking there is no real dualism here, because there is a clearly defined hierarchic relationship between the two principles. In itself of course the Receptive is just as important as the Creative, but the attribute of devotion defines the place occupied by this primal power in relation to the Creative. For the Receptive must be activated and led by the Creative; then it is productive of good. Only when it abandons this position and tries to stand as an equal side by side with the Creative, does it become evil. The result then is opposition to and struggle against the Creative, which is productive of evil to both.',\n '',\n 'THE JUDGMENT',\n '',\n 'THE RECEPTIVE brings about sublime success,',\n 'Furthering through the perseverance of a mare.',\n 'If the superior man undertakes something and tries to lead,',\n 'He goes astray;',\n 'But if he follows, he finds guidance.',\n 'It is favorable to find friends in the west and south,',\n 'To forego friends in the east and north.',\n 'Quiet perseverance brings good fortune.',\n '',\n 'The four fundamental aspects of the Creative--\"sublime success, furthering through perseverance\"--are also attributed to the Receptive. Here, however, the perseverance is more closely defined: it is that of a mare. The Receptive connotes spatial reality in contrast to the spiritual potentiality of the Creative. The potential becomes real and the spiritual becomes spatial through a specifically qualifying definition. Thus the qualification, \"of a mare,\" is here added to the idea of perseverance. The horse belongs to earth just as the dragon belongs to heaven. Its tireless roaming over the plains is taken as a symbol of the vast expanse of the earth. This is the symbol chosen because the mare combines the strength and swiftness of the horse with the gentleness and devotion of the cow. Only because nature in its myriad forms corresponds with the myriad impulses of the Creative can it make these impulses real. Nature\\'s richness lies in its power to nourish all living things; its greatness lies in its power to give then beauty and splendor. Thus it prospers all that lives. IT is the Creative that begets things, but they are brought to birth by the Receptive. Applied to human affairs, therefore, what the hexagram indicated is action in conformity with the situation. The person in questions not in an independent position, but is acting as an assistant. This means that he must achieve something. It is not his task to try to lead--that would only make him lose the way-but to let himself be led. If he knows how to meet fate with an attitude of acceptance, he is sure to find the right guidance. The superior man lets himself be guided; he does not go ahead blindly, but learns from the situation what is demanded of him and then follows this intimation from fate. Since there is something to be accomplished, we need friends and helpers in the hour of toil and effort, once the ideas to be realized are firmly set. The time of toil and effort is indicated by the west and south, for west and south symbolize the place where the Receptive works for the Creative, as nature does in summer and autumn. If in that situation one does not mobilize all one\\'s powers, the work to be accomplished will not be done. Hence to find friends there means to find guidance. But in addition to the time of toil and effort, there is also a time of planning, and for this we need this solitude. The east symbolized the place where a man receives orders from his master, and the north the place where he reports on what he has done. At that time he must be alone and objective. In this sacred hour he must do without companions. So that the purity of the moment may not be spoiled by fictional hates and favoritism.',\n '',\n 'THE IMAGE',\n '',\n \"The earth's condition is receptive devotion.\",\n 'Thus the superior man who has breadth of character',\n 'Carries the outer world.',\n '',\n 'Just as there is only one heaven, so too there is only one earth. In the hexagram of heaven the doubling of the trigram implies duration in time, but in the hexagram of earth the doubling connotes the solidity and extension in space by virtue of which the earth is able to carry and preserve all things that live and move upon it. The earth in its devotion carries all things, good and evil,, without exception. In the same way the superior man gives to his character breadth, purity, and sustaining power, so that he is able both to support and to bear with people and things.',\n '',\n 'THE LINES',\n '',\n 'Six at the beginning means:',\n '',\n 'When there is hoarfrost underfoot,',\n 'Solid ice is not far off.',\n '',\n 'Just as the light-giving power represents life, so the dark power, the shadowy, represents death. When the first hoarfrost comes in the autumn, the power of darkness and cold is just at its beginning. After these first warnings, signs of death will gradually multiply, until, in obedience to immutable laws, stark winter with its ice is here. In life it is the same. After certain scarcely noticeable signs of decay have appeared, they go on increasing until final dissolution comes. But in life precautions can be taken by heeding the first signs of decay and checking them in time.',\n '',\n 'Six in the second place means:',\n '',\n 'Straight, square, great.',\n 'Without purpose,',\n 'Yet nothing remains unfurthered.',\n '',\n \"The symbol of heaven is the circle, and that of earth is the square. Thus squareness is a primary quality of the earth. On the other hand, movement in a straight line, as well as magnitude, is a primary quality of the Creative. But all square things have their origin in a straight line and into turn form solid bodies. In mathematics, when we discriminate between lines, planes and solids, we find that rectangular planes result from straight lines, and cubic magnitudes from rectangular planes. The Receptive accommodates itself to the qualities of the Creative and makes them its own. Thus a square develops out of a straight line and a cube out of a square. This is compliance with the laws of the Creative; nothing is taken away, nothing added. Therefore the Receptive has no need of a special purpose of its own, nor of any effort' yet everything turns out as it should. Nature creates all beings without erring: this is its foursquareness. It tolerates all creatures equally: this is its greatness. Therefore it attains what is right for all without artifice or special intentions. Man achieves the height of wisdom when all that he does is as self-evident as what nature does.\",\n '',\n 'Six in the third place means:',\n '',\n 'Hidden lines.',\n 'One is able to remain persevering.',\n 'If by chance you are in the service of a king,',\n 'Seek not works, but bring to completion.',\n '',\n 'If a man is free of vanity he is able to conceal his abilities and keep them from attracting attention too soon; thus he can mature undisturbed. If conditions demand it, he can also enter public life, but that too he does with restraint. The wise man gladly leaves fame to others. He does not seek to have credited to himself things that stand accomplished, but hopes to release active forces; that is, he completes his works in such a manner that they may bear fruit for the future.',\n '',\n 'Six in the fourth place means:',\n '',\n 'A tied-up sack. No blame, no praise.',\n '',\n 'The dark element opens when it moves and closes when at rest. The strictest reticence is indicated here. The time is dangerous , because any degree of prominence leads either to the enmity of irresistible antagonists if one challenges them or to misconceived recognition if one is complaisant. Therefore a man ought to maintain reserve, be it in solitude or in the turmoil of the world, for there too he can hide himself so well that no one knows him.',\n '',\n 'Six in the fifth place means:',\n '',\n 'A yellow lower garment brings supreme good fortune.',\n '',\n \"Yellow is the color of the earth and of the middle; it is the symbol of that which is reliable and genuine. The lower garment is inconspicuously decorated--the symbol of aristocratic reserve. When anyone is called upon to work in a prominent but not independent position, true success depends on the utmost discretion. A man's genuineness and refinement should not reveal themselves directly; they should express themselves only indirectly as an effect from within.\",\n '',\n 'Six at the top means:',\n '',\n 'Dragons fight in the meadow.',\n 'Their blood is black and yellow.',\n '',\n 'In the top place the dark element should yield to the light. If it attempts to maintain a position to which it is not entitled and to rule instead of serving, it draws down upon itself the anger of the strong. A struggle ensues in which it is overthrown, with injury, however, to both sides. The dragon, symbol of heaven, comes to fight the false dragon that symbolized the inflation of the earth principle. Midnight blue is the color of heaven; yellow is the color of earth. Therefore, when black and yellow blood flow, it is a sign that in this unnatural contest both primal powers suffer injury.',\n '',\n 'When all the lines are sixes, it means:',\n '',\n 'Lasting perseverance furthers.',\n '',\n 'When nothing but sixes appears, the hexagram of THE RECEPTIVE changes into the hexagram of THE CREATIVE. By holding fast to what is right, it gains the power of enduring. There is indeed no advance, but neither is there retrogression.',\n '',\n '',\n '']"
     },
     "metadata": {},
     "execution_count": 61
    }
   ],
   "source": [
    "iching_raw['hexagrams'][1]"
   ]
  },
  {
   "cell_type": "code",
   "execution_count": 8,
   "metadata": {},
   "outputs": [
    {
     "output_type": "execute_result",
     "data": {
      "text/plain": "['# Overview\\n',\n '\\n',\n '## Data Sources\\n',\n '- Full I Ching Text by Richard Wilhelm from http://www2.unipr.it/~deyoung/I_Ching_Wilhelm_Translation.html\\n',\n '\\n',\n '- Foreword by Carl Gustav Jung from https://www.iging.com/intro/foreword.htm\\n',\n '\\n',\n '## About Richard Wilhelm 卫礼贤\\n',\n '[https://schoolofwisdom.com/about/richard-wilhelm-one-of-the-school-of-wisdoms-most-notable-teachers/](https://schoolofwisdom.com/about/richard-wilhelm-one-of-the-school-of-wisdoms-most-notable-teachers/)\\n',\n '\\n',\n '![wilhelm](./img/wilhelm.jpg)\\n',\n '\\n',\n '## My Copy of the Book\\n',\n '\\n',\n '![My Copy of the Book](./img/my-copy.jpg)\\n',\n '\\n',\n '## Foreword by Carl Gustav Jung 荣格\\n',\n '\\n',\n '[Link to the Forward](./iching-foreword.html)\\n',\n '\\n',\n '## Trigrams\\n',\n '\\n',\n '![Trigrams](./img/trigrams.png)\\n',\n '\\n',\n 'Source: wikipedia.com\\n',\n '\\n',\n '## Sequence Chart\\n',\n '\\n',\n '![Hexagram Sequence Chart](./img/sequence-chart.jpg)\\n',\n '\\n',\n 'Source: inthefamilyway.org\\n',\n '\\n',\n '## Chinese Pinyin Pronunciation\\n',\n '\\n',\n '![Chinese Pronunciation](./img/pinyin.jpg)\\n',\n '\\n',\n 'Source: baidu.com\\n',\n '\\n',\n '## How To Consult the I Ching Oracle\\n',\n '[https://www.youtube.com/watch?v=KgXaIYpAEHQ](https://www.youtube.com/watch?v=KgXaIYpAEHQ)\\n',\n '\\n',\n '# 64 Hexagrams\\n',\n '\\n',\n '![Chinese English](./img/en-ch-1.jpg)\\n',\n '![Chinese English](./img/en-ch-2.jpg)\\n',\n '\\n',\n 'Source: zhihu.com\\n',\n '\\n',\n '## Index\\n',\n '\\n',\n \"1. [Ch'ien / The Creative / 乾](#1-chien--the-creative)\\n\",\n \"2. [K'un / The Receptive / 坤](#2-kun--the-receptive)\\n\",\n '3. [Chun / Difficulty at the Beginning / 屯](#3-chun--difficulty-at-the-beginning)\\n',\n '4. [Meng / Youthful Folly / 蒙](#4-mêng--youthful-folly)\\n',\n '5. [Hsii / Waiting (Nourishment) / 需](#5-hsü--waiting-nourishment)\\n',\n '6. [Sung / Conflict / 讼](#6-sung--conflict)\\n',\n '7. [Shih / The Army / 师](#7-shih--the-army)\\n',\n '8. [Pi / Holding Together [union] / 比](#8-pi--holding-together-union)\\n',\n \"9. [Hsiao Ch'u / The Taming Power of the Small / 小畜](#9-hsiao-chu--the-taming-power-of-the-small)\\n\",\n '10. [Lit / Treading [conduct] / 履](#10-lü--treading-conduct)\\n',\n \"11. [T'ai / Peace / 泰](#11-tai--peace)\\n\",\n \"12. [P'i / Standstill [Stagnation] / 否](#12-pi--standstill-stagnation)\\n\",\n \"13. [T'ung Jen / Fellowship with Men / 同人](#13-tung-jên--fellowship-with-men)\\n\",\n '14. [Ta Yu / Possession in Great Measure / 大有](#14-ta-yu--possession-in-great-measure)\\n',\n \"15. [Ch'ien / Modesty / 谦](#15-chien--modesty)\\n\",\n '16. [Yii / Enthusiasm / 豫](#16-yü--enthusiasm)\\n',\n '17. [Sui / Following / 随](#17-sui--following)\\n',\n '18. [Ku / Work on what has been spoiled [ Decay ] / 蛊](#18-ku--work-on-what-has-been-spoiled--decay-)\\n',\n '19. [Lin / Approach / 临](#19-lin--approach)\\n',\n '20. [Kuan/ Contemplation (View) / 观](#20-kuan--contemplation-view)\\n',\n '21. [Shih Ho / Biting Through / 噬嗑](#21-shih-ho--biting-through)\\n',\n '22. [Pi / Grace / 贲](#22-pi--grace)\\n',\n '23. [Po / Splitting Apart / 剥](#23-po--splitting-apart)\\n',\n '24. [Fu / Return (The Turning Point) / 复](#24-fu--return-the-turning-point)\\n',\n '25. [Wu Wang / Innocence (The Unexpected) / 无妄](#25-wu-wang--innocence-the-unexpected)\\n',\n \"26. [Ta Ch'u / The Taming Power of the Great / 大畜](#26-ta-chu--the-taming-power-of-the-great)\\n\",\n '27. [I / Comers of the Mouth (Providing Nourishment) / 颐](#27-i--corners-of-the-mouth-providing-nourishment)\\n',\n '28. [Ta Kuo / Preponderance of the Great / 大过](#28-ta-kuo--preponderance-of-the-great)\\n',\n \"29. [K'an / The Abysmal (Water) / 坎](#29-kan--the-abysmal-water)\\n\",\n '30. [Li / The Clinging, Fire / 离](#30-li--the-clinging-fire)\\n',\n '31. [Hsien / Influence (Wooing) / 咸](#31-hsien--influence-wooing)\\n',\n '32. [Heng / Duration / 恒](#32-hêng--duration)\\n',\n '33. [TUN / Retreat / 遁](#33-tun--retreat)\\n',\n '34. [Ta Chuang / The Power of the Great / 大壮](#34-ta-chuang--the-power-of-the-great)\\n',\n '35. [Chin / Progress / 晋](#35-chin--progress)\\n',\n '36. [Ming I / Darkening of the light / 明夷](#36-ming-i--darkening-of-the-light)\\n',\n '37. [Chia Jen / The Family [The Clan] / 家人](#37-chia-jên--the-family-the-clan)\\n',\n \"38. [K'uei / Opposition / 睽](#38-kuei--opposition)\\n\",\n '39. [Chien / Obstruction / 蹇](#39-chien--obstruction)\\n',\n '40. [Hsieh / Deliverance / 解](#40-hsieh--deliverance)\\n',\n '41. [Sun / Decrease / 损](#41-sun--decrease)\\n',\n '42. [I / Increase / 益](#42-i--increase)\\n',\n '43. [Kuai / Break-through (Resoluteness) / 夬](#43-kuai--break-through-resoluteness)\\n',\n '44. [Kou / Coming to Meet / 姤](#44-kou--coming-to-meet)\\n',\n \"45. [Ts'ui / Gathering Together [Massing] / 萃](#45-tsui--gathering-together-massing)\\n\",\n '46. [Sheng / Pushing Upward / 升](#46-shêng--pushing-upward)\\n',\n \"47. [K'un / Oppression (Exhaustion) / 困](#47-kun--oppression-exhaustion)\\n\",\n '48. [Ching / The Well / 井](#48-ching--the-well)\\n',\n '49. [Ko / Revolution (Molting) / 革](#49-ko--revolution-molting)\\n',\n '50. [Ting / The Caldron / 鼎](#50-ting--the-caldron)\\n']"
     },
     "metadata": {},
     "execution_count": 8
    }
   ],
   "source": [
    "lines[:100]"
   ]
  },
  {
   "cell_type": "code",
   "execution_count": null,
   "metadata": {},
   "outputs": [],
   "source": []
  }
 ],
 "metadata": {
  "language_info": {
   "codemirror_mode": {
    "name": "ipython",
    "version": 3
   },
   "file_extension": ".py",
   "mimetype": "text/x-python",
   "name": "python",
   "nbconvert_exporter": "python",
   "pygments_lexer": "ipython3",
   "version": "3.6.9-final"
  },
  "orig_nbformat": 2,
  "kernelspec": {
   "name": "drlnd",
   "display_name": "drlnd"
  }
 },
 "nbformat": 4,
 "nbformat_minor": 2
}