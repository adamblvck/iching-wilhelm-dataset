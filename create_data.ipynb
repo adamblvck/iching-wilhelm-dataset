{
 "cells": [
  {
   "cell_type": "code",
   "execution_count": 360,
   "metadata": {},
   "outputs": [],
   "source": [
    "import json\n",
    "import pandas as pd"
   ]
  },
  {
   "cell_type": "markdown",
   "metadata": {},
   "source": [
    "# Let's load Wilhelm's Translation of the I-Ching, and let's poor it into a JSON & CSV file\n",
    "\n",
    "In `./iching_fulltext.md` we have a full english translation of the Wilhelm I-Ching translation. We want to write a simple parser which will take out all required pieces from the text and store it inside ann appropriately constructed JSON/CSV."
   ]
  },
  {
   "cell_type": "code",
   "execution_count": 349,
   "metadata": {},
   "outputs": [],
   "source": [
    "count = 0\n",
    "with open('./data/iching_willhelm_markdown.md') as f:\n",
    "    lines = f.readlines()\n",
    "\n",
    "with open('./data/i-ching-basic.js') as json_file:\n",
    "    iching_basic = json.load(json_file)\n",
    "\n",
    "iching_full_text = ''.join(lines)\n",
    "\n",
    "def iching_raw_text_section_split():\n",
    "    \"\"\" Split markdown into \\n-splitted sections, each on a hexagram. Take section 10-74 of the markdown for this as Hexagram Texts \"\"\"\n",
    "    start_ii = 10 # hex 1\n",
    "    end_ii = 74 # hex 64\n",
    "\n",
    "    # dictionary prep\n",
    "    iching_raw = {}\n",
    "    iching_raw['hexagrams'] = {}\n",
    "\n",
    "    # Split translation by subsectoin (## )\n",
    "    split = iching_full_text.split(\"## \")\n",
    "\n",
    "    # Now join sections back together, but split them on new lines\n",
    "    for i in range(start_ii, end_ii):\n",
    "        iching_raw['hexagrams'][i-start_ii] = [p.split(\"\\n\") for p in split][i]\n",
    "\n",
    "    return iching_raw\n",
    "\n",
    "iching_raw = iching_raw_text_section_split()"
   ]
  },
  {
   "cell_type": "code",
   "execution_count": 350,
   "metadata": {},
   "outputs": [
    {
     "output_type": "execute_result",
     "data": {
      "text/plain": "['56. Lü / The Wanderer',\n '[Back to Index](#index)',\n '',\n 'above LI THE CLINGING, FIRE',\n '',\n 'below KêN KEEPING STILL, MOUNTAIN',\n '',\n \"The mountain, Kên, stands still; above it fire, Li, flames up and does not tarry. Therefore the two trigrams do not stay together. Strange lands and separation are the wanderer's lot.\",\n '',\n 'THE JUDGMENT',\n '',\n 'The Wanderer. Success through smallness.',\n 'Perseverance brings good fortune to the wanderer.',\n '',\n 'WHEN A man is a wanderer and stranger, he should not be gruff nor overbearing. He has no large circle of acquaintances, therefore he should not give himself airs. He must be cautious and reserved; in this way he protects himself from evil. If he is obliging toward others, he wins success.',\n '',\n 'A wanderer has no fixed abode; his home is the road. Therefore he must take care to remain upright and steadfast, so that he sojourns only in the proper places, associating only with good people. Then he has good fortune and can go his way unmolested.',\n '',\n 'THE IMAGE',\n '']"
     },
     "metadata": {},
     "execution_count": 350
    }
   ],
   "source": [
    "# preview\n",
    "iching_raw['hexagrams'][55][:20]"
   ]
  },
  {
   "cell_type": "code",
   "execution_count": 351,
   "metadata": {},
   "outputs": [],
   "source": [
    "keywords = [ 'above', 'below', 'THE JUDGMENT', 'THE IMAGE', 'THE LINES' ]"
   ]
  },
  {
   "cell_type": "markdown",
   "metadata": {},
   "source": [
    "We want to do the following:\n",
    "- identify lines with above keywords\n",
    "- Extract parts of text into json structure (if applicable)"
   ]
  },
  {
   "cell_type": "code",
   "execution_count": 352,
   "metadata": {},
   "outputs": [],
   "source": [
    "def wilhelm_hexagram(iching_hexagrams, idx):\n",
    "    \"\"\" Get keywords positions (line number) and hexagram text of hexagram `idx` (eg 63) from iching_hexagrams\n",
    "        Note that here: Hexagram 1 = iching_hexagrams[0], Hexagram 64 = iching_hexagrams[63]\n",
    "    \"\"\"\n",
    "\n",
    "    # get a single iching hexagram\n",
    "    hexg = iching_hexagrams[idx]\n",
    "\n",
    "    # create indice arrray where keywords occur\n",
    "    idx_array = {}\n",
    "\n",
    "    # iteratie through lines in hexagram\n",
    "    for i, l in enumerate(hexg):\n",
    "\n",
    "        # now we're gonna check if the line contains a special keyword\n",
    "        for k in keywords:\n",
    "            \n",
    "            # if keyword in line\n",
    "            if k in l[:len(k)]:\n",
    "                idx_array[k] = i\n",
    "\n",
    "    return hexg, idx_array"
   ]
  },
  {
   "cell_type": "markdown",
   "metadata": {},
   "source": [
    "Todo:\n",
    "- Get started by adding to a dictionary of symbolic representation of the hexagram.\n",
    "- Judgment section could perhaps be renamed to \"Law\", and so is everyone writing their own Law, if allowed to have their own interpretation."
   ]
  },
  {
   "cell_type": "code",
   "execution_count": 353,
   "metadata": {},
   "outputs": [],
   "source": [
    "# key-map values on hex-value\n",
    "iching_extented_start = { item['hex']:item for ii, item in enumerate(iching_basic) }"
   ]
  },
  {
   "cell_type": "markdown",
   "metadata": {},
   "source": [
    "## Let's define core functions"
   ]
  },
  {
   "cell_type": "code",
   "execution_count": 354,
   "metadata": {},
   "outputs": [],
   "source": [
    "def get_basic_info(hex_text, indices):\n",
    "    \"\"\" Retrieve basic info / name of hexagram, given hex_text and keyword indices\"\"\"\n",
    "    return hex_text[0]\n",
    "\n",
    "def retrieve_above(hex_text, indices):\n",
    "    \"\"\" Retrieve above, and interpretation, given hex_text and keyword indices\"\"\"\n",
    "    above_text = hex_text[indices['above']]\n",
    "\n",
    "    split = above_text.split(' ')\n",
    "    chinese = split[1]\n",
    "    symbolic = ' '.join(split[2:4])\n",
    "    alchemical = split[4]\n",
    "\n",
    "    # print ( split )\n",
    "    # print ('chinese -->', chinese )\n",
    "    # print ('symbolic -->', symbolic )\n",
    "    # print ('alchemical -->', alchemical )\n",
    "\n",
    "    return {\n",
    "        'chinese': chinese,\n",
    "        'symbolic': symbolic,\n",
    "        'alchemical': alchemical,\n",
    "    }\n",
    "\n",
    "def retrieve_below(hex_text, indices):\n",
    "    \"\"\" Retrieve below, and interpretation, given hex_text and keyword indices\"\"\"\n",
    "    below_text = hex_text[indices['below']]\n",
    "\n",
    "    split = below_text.split(' ')\n",
    "    chinese = split[1]\n",
    "    symbolic = ' '.join(split[2:4])\n",
    "    alchemical = split[4]\n",
    "\n",
    "    return {\n",
    "        'chinese': chinese,\n",
    "        'symbolic': symbolic,\n",
    "        'alchemical': alchemical,\n",
    "    }\n",
    "\n",
    "def retrieve_symbolic(hex_text, indices):\n",
    "    \"\"\" Retrieve symbolc, and interpretation, given hex_text and keyword indices\"\"\"\n",
    "    symbolic_text = '\\n'.join( hex_text[indices['below']+1: indices['THE JUDGMENT']])\n",
    "\n",
    "    split = symbolic_text.lstrip('\\n').rstrip('\\n')\n",
    "\n",
    "    return split\n",
    "\n",
    "def retrieve_judgment(hex_text, indices):\n",
    "    \"\"\" Retrieve judgment, and interpretation, given hex_text and keyword indices\"\"\"\n",
    "    judgment_text = '\\n'.join( hex_text[indices['THE JUDGMENT']+1: indices['THE IMAGE']] )\n",
    "\n",
    "    split = judgment_text.lstrip('\\n').rstrip('\\n').split('\\n')\n",
    "    text = '\\n'.join( split[:-1] ).lstrip('\\n').rstrip('\\n') # all but last section\n",
    "    comments = '\\n'.join( split[-1:] ).lstrip('\\n').rstrip('\\n') # last part of this section\n",
    "\n",
    "    return {\n",
    "        'text': text,\n",
    "        'comments': comments\n",
    "    }\n",
    "\n",
    "def retrieve_image(hex_text, indices):\n",
    "    \"\"\" Retrieve image, and interpretation, given hex_text and keyword indices\"\"\"\n",
    "    image_text = '\\n'.join( hex_text[indices['THE IMAGE']+1: indices['THE LINES']])\n",
    "\n",
    "    split = image_text.lstrip('\\n').rstrip('\\n').split('\\n')\n",
    "    \n",
    "    text = '\\n'.join( split[:-1] ).lstrip('\\n').rstrip('\\n') # all but last section\n",
    "    comments = '\\n'.join( split[-1:] ).lstrip('\\n').rstrip('\\n') # last part of this section\n",
    "\n",
    "    return {\n",
    "        'text': text,\n",
    "        'comments': comments\n",
    "    }\n",
    "\n",
    "def get_single_line(line_text_rr, keys, key_indices, line):\n",
    "\n",
    "    if (len(key_indices) < 6):\n",
    "        print (\"Line text does not have 6 keys:\",key_indices)\n",
    "        return [\"\"]\n",
    "\n",
    "    if line >= len(key_indices):\n",
    "        # return {\n",
    "        #     \"comments\": \"\\n\".join( line_text_rr[key_indices[keys[line-1]]:] ).lstrip('\\n').rstrip('\\n')\n",
    "        # }\n",
    "        info = line_text_rr[key_indices[keys[line-1]]:]\n",
    "        \n",
    "    else:\n",
    "        info = line_text_rr[key_indices[keys[line-1]]:key_indices[keys[line]]]\n",
    "    \n",
    "\n",
    "    split = '\\n'.join(info[1:]).lstrip('\\n').rstrip('\\n').split('\\n\\n', 1)\n",
    "    text = '\\n'.join( split[:-1] ).lstrip('\\n').rstrip('\\n') # all but last section\n",
    "    comments = '\\n'.join( split[-1:] ).lstrip('\\n').rstrip('\\n') # last part of this section\n",
    "\n",
    "    # print (\"-----{}----\".format(line))\n",
    "    # print (\"text -->\", text)\n",
    "    # print (\"comments -->\", comments)\n",
    "    # print (\"\")\n",
    "\n",
    "    return {\n",
    "        'text': text,\n",
    "        'comments': comments\n",
    "    }\n",
    "\n",
    "    # return '\\n'.join(info[1:]).lstrip('\\n').rstrip('\\n')\n",
    "\n",
    "\n",
    "def retrieve_lines(hex_text, indices):\n",
    "    \"\"\" Retrieve lines, and interpretation, given hex_text and keyword indices\"\"\"\n",
    "    # lines_text = '\\n'.join( hex_text[indices['THE LINES']+1:])\n",
    "    lines_txt_array = hex_text[indices['THE LINES']+1:]\n",
    "\n",
    "    keys = [\"at the beginning means\", \"in the second place means\", \"in the third place means\", \"in the fourth place means\", \"in the fifth place means\", \"at the top means\",\"all the lines\"]\n",
    "\n",
    "    # print (lines_txt_array)\n",
    "\n",
    "    ### create indice arrray where keywords occur\n",
    "    keys_ii_array = {}\n",
    "\n",
    "    # iteratie through lines in text\n",
    "    for i, l in enumerate(lines_txt_array):\n",
    "\n",
    "        # now we're gonna check if the line contains a special keyword\n",
    "        for k in keys:\n",
    "            \n",
    "            # if keyword in line\n",
    "            if k in l: #l[:len(k)]:\n",
    "                keys_ii_array[k] = i\n",
    "\n",
    "    ## Retrieve text for every single line (1-6)\n",
    "    lines = {}\n",
    "    for _l_number in range(1,7):\n",
    "        lines[_l_number] = get_single_line(lines_txt_array, keys, keys_ii_array, _l_number)\n",
    "\n",
    "    # print (lines)\n",
    "\n",
    "    return lines"
   ]
  },
  {
   "cell_type": "markdown",
   "metadata": {},
   "source": [
    "Now go through all hexagrams in our basic-hex kit, and enricht it with Wilhelm"
   ]
  },
  {
   "cell_type": "code",
   "execution_count": 355,
   "metadata": {
    "tags": []
   },
   "outputs": [
    {
     "output_type": "stream",
     "name": "stdout",
     "text": "hex 1\nhex 2\nhex 3\nhex 4\nhex 5\nhex 6\nhex 7\nhex 8\nhex 9\nhex 10\nhex 11\nhex 12\nhex 13\nhex 14\nhex 15\nhex 16\nhex 17\nhex 18\nhex 19\nhex 20\nhex 21\nhex 22\nhex 23\nhex 24\nhex 25\nhex 26\nhex 27\nhex 28\nhex 29\nhex 30\nhex 31\nhex 32\nhex 33\nhex 34\nhex 35\nhex 36\nhex 37\nhex 38\nhex 39\nhex 40\nhex 41\nhex 42\nhex 43\nhex 44\nhex 45\nhex 46\nhex 47\nhex 48\nhex 49\nhex 50\nhex 51\nhex 52\nhex 53\nhex 54\nhex 55\nhex 56\nhex 57\nhex 58\nhex 59\nhex 60\nhex 61\nhex 62\nhex 63\nhex 64\n"
    }
   ],
   "source": [
    "for kk, hexagram in iching_extented_start.items():\n",
    "\n",
    "    # if kk != 5:\n",
    "        # continue\n",
    "\n",
    "    # retrieve hexagram text kk (64 hexagrams total), and markers with core info in text\n",
    "    hex_wilhelm, markers = wilhelm_hexagram(iching_raw['hexagrams'], kk-1)\n",
    "\n",
    "    print ('hex',hexagram['hex'])\n",
    "\n",
    "    # Enrich hexagram with `hex_wilhelm` info\n",
    "    hexagram['wilhelm_above'] = retrieve_above(hex_wilhelm, markers)\n",
    "    hexagram['wilhelm_below'] = retrieve_below(hex_wilhelm, markers)\n",
    "    hexagram['wilhelm_symbolic'] = retrieve_symbolic(hex_wilhelm, markers)\n",
    "    hexagram['wilhelm_judgment'] = retrieve_judgment(hex_wilhelm, markers)\n",
    "    hexagram['wilhelm_image'] = retrieve_image(hex_wilhelm, markers)\n",
    "    hexagram['wilhelm_lines'] = retrieve_lines(hex_wilhelm, markers)"
   ]
  },
  {
   "cell_type": "code",
   "execution_count": 356,
   "metadata": {},
   "outputs": [
    {
     "output_type": "execute_result",
     "data": {
      "text/plain": "{'hex': 5,\n 'hex_font': '䷄',\n 'trad_chinese': '需',\n 'pinyin': 'xū',\n 'english': 'Needing',\n 'binary': '010111',\n 'od': 35,\n 'wilhelm_above': {'chinese': \"K'AN\",\n  'symbolic': 'THE ABYSMAL,',\n  'alchemical': 'WATER'},\n 'wilhelm_below': {'chinese': \"CH'IEN\",\n  'symbolic': 'THE CREATIVE,',\n  'alchemical': 'HEAVEN'},\n 'wilhelm_symbolic': 'All beings have need of nourishment from above. But the gift of food comes in its own time, and for this one must wait. This hexagram shows the clouds in the heavens, giving rain to refresh all that grows and to provide mankind with food and drink. The rain will come in its own time. We cannot make it come; we have to wait for it. The idea of waiting is further suggested by the attributes of the two trigrams--strength within, danger in from. Strength in the face of danger does not plunge ahead but bides its time, whereas weakness in the face of danger grows agitated and has not the patience to wait.',\n 'wilhelm_judgment': {'text': 'WAITING. If you are sincere,\\nYou have light and success.\\nPerseverance brings good fortune.\\nIt furthers one to cross the great water.',\n  'comments': 'Waiting is not mere empty hoping. It has the inner certainty of reaching the goal. Such certainty alone gives that light which leads to success. This leads to the perseverance that brings good fortune and bestows power to cross the great water. One is faced with a danger that has to be overcome. Weakness and impatience can do nothing. Only a strong man can stand up to his fate, for his inner security enables him to endure to the end. This strength shows itself in uncompromising truthfulness [with himself]. It is only when we have the courage to face things exactly as they are, without any sort of self-deception or illusion, that a light will develop out of events, by which the path to success may be recognized. This recognition must be followed by resolute and persevering action. For only the man who goes to meet his fate resolutely is equipped to deal with it adequately. Then he will be able to cross the great water--that is to say, he will be capable of making the necessary decision and of surmounting the danger.'},\n 'wilhelm_image': {'text': 'Clouds rise up to heaven:\\nThe image of WAITING.\\nThus the superior man eats and drinks,\\nIs joyous and of good cheer.',\n  'comments': 'When clouds rise in the sky, it is a sign that it will rain. There is nothing to do but to wait until after the rain falls. It is the same in life when destiny is at work. We should not worry and seek to shape the future by interfering in things before the time is ripe. We should quietly fortify the body with food and drink and the mind with gladness and good cheer. Fate comes when it will, and thus we are ready.'},\n 'wilhelm_lines': {1: {'text': 'Waiting in the meadow.\\nIT furthers one to abide in what endures.\\nNo blame.',\n   'comments': 'The danger is not yet close. One is still waiting on the open plain. Conditions are still simple, yet there is a feeling of something impending. One must continue to lead a regular life as long as possible. Only in this way does one guard against a premature waste of strength, keep free of blame and error that would become a source of weakness later on.'},\n  2: {'text': 'Waiting on the sand.\\nThere is some gossip.\\nThe end brings good fortune.',\n   'comments': 'The danger gradually comes closer. Sand is near the bank of the river, and the water means danger. Disagreements crop up. General unrest can easily develop in such times, and we lay the blame on one another. He who stays calm will succeed in making things go well in the end. Slander will be silenced if we do not gratify it with injured retorts.'},\n  3: {'text': 'Waiting in the mud\\nBrings about the arrival of the enemy.',\n   'comments': 'Mud is no place for waiting, since it is already being washed by the water of the stream. Instead of having gathered strength to cross the stream at one try, one has made a premature start that has got him no farther than the muddy bank. Such an unfavorable position invites enemies from without, who naturally take advantage of it. Caution and a sense of the seriousness of the situation are all that can keep one from injury.'},\n  4: {'text': 'Waiting in blood.\\nGet out of the pit.',\n   'comments': 'The situation is extremely dangerous. IT is of utmost gravity now--a matter of life and death. Bloodshed seems imminent. There is no going forward or backward; we are cut off as if in a pit. Now we must simply stand fast and let fate take its course. This composure, which keeps us from aggravating the trouble by anything we might do, is the only way of getting out of the dangerous pit.'},\n  5: {'text': 'Waiting at meat and drink.\\nPerseverance brings good fortune.',\n   'comments': 'Even in the midst of danger there come intervals of peace when things go relatively well. If we possess enough inner strength, we shall take advantage of these intervals to fortify ourselves for renewed struggle. We must know how to enjoy the moment without being deflected from the goal, for perseverance is needed to remain victorious. This is true in public life as well; it is not possible to achieve everything all at once. The height of wisdom is to allow people enough recreation to quicken pleasure in their work until the task is completed. Herein lies the secret of the whole hexagram. It differs from Chin OBSTRUCTION\\n\\n39, in the fact that in this instance, while waiting, we are sure of our cause and therefore do not lose the serenity born of inner cheerfulness.'},\n  6: {'text': 'One falls into the pit.\\nThree uninvited guests arrive.\\nHonor them, and in the end there will be good fortune.',\n   'comments': \"The waiting is over; the danger can no longer be averted. One falls into the pit and must yield to the inevitable. Everything seems to have been in vain. But precisely in this extremity things take an unforeseen turn. Without a move on one's own part, there is outside intervention. At first one cannot be sure of its meaning: is it rescue or is it destruction? A person in this situation must keep his mind alert and not withdraw into himself with a sulky gesture of refusal, but must greet the new turn with respect. Thus he ultimately escapes the danger, and all goes well. Even happy turns of fortune often come in a form that at first seems strange to us.\"}}}"
     },
     "metadata": {},
     "execution_count": 356
    }
   ],
   "source": [
    "iching_extented_start[5]"
   ]
  },
  {
   "cell_type": "markdown",
   "metadata": {},
   "source": [
    "## Write to I-Ching Wilhelm Translation"
   ]
  },
  {
   "cell_type": "code",
   "execution_count": 357,
   "metadata": {},
   "outputs": [],
   "source": [
    "with open('./data/iching_wilhelm_translation.json', 'w') as outfile:\n",
    "    json.dump(iching_extented_start, outfile)"
   ]
  },
  {
   "cell_type": "markdown",
   "metadata": {},
   "source": [
    "A few broad checks for JSONN integrity"
   ]
  },
  {
   "cell_type": "code",
   "execution_count": 359,
   "metadata": {
    "tags": []
   },
   "outputs": [],
   "source": [
    "for kk, hexagram in iching_extented_start.items():\n",
    "\n",
    "    for _l_number in range(1,7):\n",
    "        if hexagram['wilhelm_lines'][_l_number]['text'] == \"\":\n",
    "            print (\"Hex {} Line {}, {} empty!\".format(kk, _l_number, \"text\"))\n",
    "\n",
    "        if hexagram['wilhelm_lines'][_l_number]['comments'] == \"\":\n",
    "            print (\"Hex {} Linne {}, {} empty!\".format(kk, _l_number, \"comments\"))\n",
    "\n",
    "    # print ( hexagram['wilhelm_lines'][6] )"
   ]
  },
  {
   "cell_type": "code",
   "execution_count": 364,
   "metadata": {},
   "outputs": [],
   "source": [
    "# write to CSV\n",
    "df = pd.read_json('./data/iching_wilhelm_translation.json', orient='index')"
   ]
  },
  {
   "cell_type": "code",
   "execution_count": 368,
   "metadata": {},
   "outputs": [],
   "source": [
    "# re-arrange columns\n",
    "df = df[['hex', 'hex_font', 'binary', 'english', 'od', 'pinyin', 'trad_chinese',\n",
    "       'wilhelm_above', 'wilhelm_below', 'wilhelm_symbolic', 'wilhelm_image', 'wilhelm_judgment', 'wilhelm_lines']]"
   ]
  },
  {
   "cell_type": "code",
   "execution_count": 370,
   "metadata": {},
   "outputs": [],
   "source": [
    "df.to_csv('./data/iching_wilhelm_translation.csv', index=False, sep=';')"
   ]
  },
  {
   "cell_type": "code",
   "execution_count": null,
   "metadata": {},
   "outputs": [],
   "source": []
  }
 ],
 "metadata": {
  "language_info": {
   "codemirror_mode": {
    "name": "ipython",
    "version": 3
   },
   "file_extension": ".py",
   "mimetype": "text/x-python",
   "name": "python",
   "nbconvert_exporter": "python",
   "pygments_lexer": "ipython3",
   "version": "3.6.9-final"
  },
  "orig_nbformat": 2,
  "kernelspec": {
   "name": "drlnd",
   "display_name": "drlnd"
  }
 },
 "nbformat": 4,
 "nbformat_minor": 2
}