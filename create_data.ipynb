{
 "cells": [
  {
   "cell_type": "code",
   "execution_count": 2,
   "metadata": {},
   "outputs": [],
   "source": [
    "import json"
   ]
  },
  {
   "cell_type": "markdown",
   "metadata": {},
   "source": [
    "# Let's load Wilhelm's Translation of the I-Ching, and let's poor it into a JSON & CSV file\n",
    "\n",
    "In `./iching_fulltext.md` we have a full english translation of the Wilhelm I-Ching translation. We want to write a simple parser which will take out all required pieces from the text and store it inside ann appropriately constructed JSON/CSV."
   ]
  },
  {
   "cell_type": "code",
   "execution_count": 20,
   "metadata": {},
   "outputs": [],
   "source": [
    "count = 0\n",
    "with open('./data/iching_willhelm_markdown.md') as f:\n",
    "    lines = f.readlines()\n",
    "\n",
    "with open('./data/i-ching-basic.js') as json_file:\n",
    "    iching_basic = json.load(json_file)\n",
    "\n",
    "iching_full_text = ''.join(lines)\n",
    "\n",
    "def iching_raw_text_section_split():\n",
    "    \"\"\" Split markdown into \\n-splitted sections, each on a hexagram. Take section 10-74 of the markdown for this as Hexagram Texts \"\"\"\n",
    "    start_ii = 10 # hex 1\n",
    "    end_ii = 74 # hex 64\n",
    "\n",
    "    # dictionary prep\n",
    "    iching_raw = {}\n",
    "    iching_raw['hexagrams'] = {}\n",
    "\n",
    "    # Split translation by subsectoin (## )\n",
    "    split = iching_full_text.split(\"## \")\n",
    "\n",
    "    # Now join sections back together, but split them on new lines\n",
    "    for i in range(start_ii, end_ii):\n",
    "        iching_raw['hexagrams'][i-start_ii] = [p.split(\"\\n\") for p in split][i]\n",
    "\n",
    "    return iching_raw\n",
    "\n",
    "iching_raw = iching_raw_text_section_split()"
   ]
  },
  {
   "cell_type": "code",
   "execution_count": 21,
   "metadata": {},
   "outputs": [
    {
     "output_type": "execute_result",
     "data": {
      "text/plain": "['56. Lü / The Wanderer',\n '[Back to Index](#index)',\n '',\n 'above LI THE CLINGING, FIRE',\n '',\n 'below KêN KEEPING STILL, MOUNTAIN',\n '',\n \"The mountain, Kên, stands still; above it fire, Li, flames up and does not tarry. Therefore the two trigrams do not stay together. Strange lands and separation are the wanderer's lot.\",\n '',\n 'THE JUDGMENT',\n '',\n 'The Wanderer. Success through smallness.',\n 'Perseverance brings good fortune to the wanderer.',\n '',\n 'WHEN A man is a wanderer and stranger, he should not be gruff nor overbearing. He has no large circle of acquaintances, therefore he should not give himself airs. He must be cautious and reserved; in this way he protects himself from evil. If he is obliging toward others, he wins success.',\n '',\n 'A wanderer has no fixed abode; his home is the road. Therefore he must take care to remain upright and steadfast, so that he sojourns only in the proper places, associating only with good people. Then he has good fortune and can go his way unmolested.',\n '',\n 'THE IMAGE',\n '']"
     },
     "metadata": {},
     "execution_count": 21
    }
   ],
   "source": [
    "# preview\n",
    "iching_raw['hexagrams'][55][:20]"
   ]
  },
  {
   "cell_type": "code",
   "execution_count": 22,
   "metadata": {},
   "outputs": [],
   "source": [
    "keywords = [ 'above', 'below', 'THE JUDGMENT', 'THE IMAGE', 'THE LINES' ]"
   ]
  },
  {
   "cell_type": "markdown",
   "metadata": {},
   "source": [
    "We want to do the following:\n",
    "- identify lines with above keywords\n",
    "- Extract parts of text into json structure (if applicable)"
   ]
  },
  {
   "cell_type": "code",
   "execution_count": 24,
   "metadata": {},
   "outputs": [],
   "source": [
    "def wilhelm_hexagram(iching_hexagrams, idx):\n",
    "    \"\"\" Get keywords positions (line number) and hexagram text of hexagram `idx` (eg 63) from iching_hexagrams\n",
    "        Note that here: Hexagram 1 = iching_hexagrams[0], Hexagram 64 = iching_hexagrams[63]\n",
    "    \"\"\"\n",
    "\n",
    "    # get a single iching hexagram\n",
    "    hexg = iching_hexagrams[idx]\n",
    "\n",
    "    # create indice arrray where keywords occur\n",
    "    idx_array = {}\n",
    "\n",
    "    # iteratie through lines in hexagram\n",
    "    for i, l in enumerate(hexg):\n",
    "\n",
    "        # now we're gonna check if the line contains a special keyword\n",
    "        for k in keywords:\n",
    "            \n",
    "            # if keyword in line\n",
    "            if k in l[:len(k)]:\n",
    "                idx_array[k] = i\n",
    "\n",
    "    return hexg, idx_array"
   ]
  },
  {
   "cell_type": "markdown",
   "metadata": {},
   "source": [
    "Todo:\n",
    "- Get started by adding to a dictionary of symbolic representation of the hexagram.\n",
    "- Judgment section could perhaps be renamed to \"Law\", and so is everyone writing their own Law, if allowed to have their own interpretation."
   ]
  },
  {
   "cell_type": "code",
   "execution_count": 6,
   "metadata": {},
   "outputs": [],
   "source": [
    "# key-map values on hex-value\n",
    "iching_extented_start = { item['hex']:item for ii, item in enumerate(iching_basic) }"
   ]
  },
  {
   "cell_type": "markdown",
   "metadata": {},
   "source": [
    "## Let's define core functions"
   ]
  },
  {
   "cell_type": "code",
   "execution_count": 7,
   "metadata": {},
   "outputs": [],
   "source": [
    "def get_basic_info(hex_text, indices):\n",
    "    \"\"\" Retrieve basic info / name of hexagram, given hex_text and keyword indices\"\"\"\n",
    "    return hex_text[0]\n",
    "\n",
    "def retrieve_above(hex_text, indices):\n",
    "    \"\"\" Retrieve above, and interpretation, given hex_text and keyword indices\"\"\"\n",
    "    above_text = hex_text[indices['above']]\n",
    "    return above_text\n",
    "\n",
    "def retrieve_below(hex_text, indices):\n",
    "    \"\"\" Retrieve below, and interpretation, given hex_text and keyword indices\"\"\"\n",
    "    below_text = hex_text[indices['below']]\n",
    "    return below_text\n",
    "\n",
    "def retrieve_symbolic(hex_text, indices):\n",
    "    \"\"\" Retrieve symbolc, and interpretation, given hex_text and keyword indices\"\"\"\n",
    "    # print (indices)\n",
    "    symbolic_text = '\\n'.join( hex_text[indices['below']+1: indices['THE JUDGMENT']])\n",
    "    return symbolic_text\n",
    "\n",
    "def retrieve_judgment(hex_text, indices):\n",
    "    \"\"\" Retrieve judgment, and interpretation, given hex_text and keyword indices\"\"\"\n",
    "    judgment_text = '\\n'.join( hex_text[indices['THE JUDGMENT']+1: indices['THE IMAGE']])\n",
    "    return judgment_text\n",
    "\n",
    "def retrieve_image(hex_text, indices):\n",
    "    \"\"\" Retrieve image, and interpretation, given hex_text and keyword indices\"\"\"\n",
    "    image_text = '\\n'.join( hex_text[indices['THE IMAGE']+1: indices['THE LINES']])\n",
    "    return image_text\n",
    "\n",
    "def retrieve_lines(hex_text, indices):\n",
    "    \"\"\" Retrieve lines, and interpretation, given hex_text and keyword indices\"\"\"\n",
    "    lines_text = '\\n'.join( hex_text[indices['THE LINES']+1:])\n",
    "    return lines_text"
   ]
  },
  {
   "cell_type": "markdown",
   "metadata": {},
   "source": [
    "Now go through all hexagrams in our basic-hex kit, and enricht it with Wilhelm"
   ]
  },
  {
   "cell_type": "code",
   "execution_count": 9,
   "metadata": {
    "tags": []
   },
   "outputs": [],
   "source": [
    "for kk, hexagram in iching_extented_start.items():\n",
    "\n",
    "    # retrieve hexagram text kk (64 hexagrams total), and markers with core info in text\n",
    "    hex_wilhelm, markers = wilhelm_hexagram(iching_raw['hexagrams'], kk-1)\n",
    "\n",
    "    # Enrich hexagram with `hex_wilhelm` info\n",
    "    hexagram['wilhelm_above'] = retrieve_above(hex_wilhelm, markers)\n",
    "    hexagram['wilhelm_below'] = retrieve_below(hex_wilhelm, markers)\n",
    "    hexagram['wilhelm_symbolic'] = retrieve_symbolic(hex_wilhelm, markers)\n",
    "    hexagram['wilhelm_judgment'] = retrieve_judgment(hex_wilhelm, markers)\n",
    "    hexagram['wilhelm_image'] = retrieve_image(hex_wilhelm, markers)\n",
    "    hexagram['wilhelm_lines'] = retrieve_lines(hex_wilhelm, markers)"
   ]
  },
  {
   "cell_type": "code",
   "execution_count": 10,
   "metadata": {},
   "outputs": [
    {
     "output_type": "execute_result",
     "data": {
      "text/plain": "{'hex': 64,\n 'hex_font': '䷿',\n 'trad_chinese': '未濟',\n 'pinyin': 'wèijì',\n 'english': 'NotYetFulfilled',\n 'binary': 101010,\n 'od': 63,\n 'wilhelm_above': 'above LI THE CLINGING, FLAME',\n 'wilhelm_below': \"below K'AN THE ABYSMAL, WATER\",\n 'wilhelm_symbolic': \"\\nThis hexagram indicates a time when the transition from disorder to order is not yet completed. The change is indeed prepared for, since all the lines in the upper trigram are in relation to those in the lower. However, they are not yet in their places. While the preceding hexagram offers an analogy to autumn, which forms the transition from summer to winter, this hexagram presents a parallel to spring, which leads out of winter's stagnation into the fruitful time of summer. With this hopeful outlook the Book of Changes come to its close.\\n\",\n 'wilhelm_judgment': '\\nBEFORE COMPLETION. Success.\\nBut if the little fox, after nearly completing the crossing,\\nGets his tail in the water,\\n\\nThere is nothing that would further.\\n\\nThe conditions are difficult. The task is great and full of responsibility. It is nothing less than that of leading the world out of confusion back to order. But it is a task that promises success, because there is a goal that can unite the forces now tending in different directions. At first, however, one must move warily, like an old fox walking over ice. The caution of a fox walking over ice is proverbial in China. His ears are constantly alert to the cracking of the ice, as he carefully and circumspectly searches out the safest spots. A young fox who as yet has not acquired this caution goes ahead boldly, and it may happen that he falls in and gets his tail wet when he is almost across the water. Then of course his effort has been all in vain. Accordingly, in times \"before completion,\" deliberation and caution are the prerequisites of success.\\n',\n 'wilhelm_image': '\\nFire over water:\\n\\nThe image of the condition before transition.\\n\\nThus the superior man is careful\\nIn the differentiation of things,\\n\\nSo that each finds its place.\\n\\nWhen fire, which by nature flames upward, is above, and water, which flows downward, is below, their effects take opposite directions and remain unrelated. If we wish to achieve an effect, we must first investigate the nature of the forces in question and ascertain their proper place. If we can bring these forces to bear in the right place, they will have the desired effect and completion will be achieved. But in order to handle external forces properly, we must above all arrive at the correct standpoint ourselves, for only from this vantage can we work correctly.\\n',\n 'wilhelm_lines': \"\\nSix at the beginning means:\\n\\nHe gets his tail in the water.\\nHumiliating.\\n\\nIn times of disorder there is a temptation to advance oneself as rapidly as possible in order to accomplish something tangible. But this enthusiasm leads only to failure and humiliation if the time for achievement has not yet arrived. In such time it is wise to spare ourselves the opprobrium of failure by holding back.\\n\\nNine in the second place means:\\n\\nHe brakes his wheels.\\nPerseverance brings good fortune.\\n\\nHere again the time to act has not yet come. But the patience needed is not that of idle waiting without thought of the morrow. Kept up indefinitely, this would not lead to any success. Instead, an individual must develop in himself the strength that will enable him to go forward. He must have a vehicle, as it were, to effect the crossing. But he must for the time being use the brakes. Patience in the highest sense means putting brakes on strength. Therefore he must not fall asleep and lose sight of the goal. If he remains strong and steadfast in his resolve, all goes well in the end.\\n\\nSix in the third place means:\\n\\nBefore completion, attack brings misfortune.\\nIt furthers one to cross the great water.\\n\\nThe time of transition has arrived, but one lacks the strength to complete the transition. If one should attempt to force it, disaster would result, because collapse would then be unavoidable. What is to be done? A new situation must be created; one must engage the energies of able helpers and in this fellowship take the decisive step-cross the great water. Then completion will become possible.\\n\\nNine in the fourth place means:\\n\\nPerseverance brings good fortune.\\nRemorse disappears.\\n\\nShock, thus to discipline the Devil's Country.\\nFor three years, great realms are rewarded.\\n\\nNow it is the time of struggle. The transition must be completed. We must make ourselves strong in resolution; this brings good fortune. All misgivings that might arise in such grave times of struggle must be silenced. It is a question of a fierce battle to break and to discipline the Devil's Country, the forces of decadence. But the struggle also has its reward. Now is the time to lay the foundations of power and mastery for the future.\\nSix in the fifth place means:\\n\\nPerseverance brings good fortune.\\n\\nNo remorse.\\n\\nThe light of the superior man is true.\\nGood fortune.\\n\\nThe victory has been won. The power of steadfastness has not been routed. Everything has gone well. All misgivings have been overcome. Success has justified the deed. The light of a superior personality shines forth anew and makes its influence felt among men who have faith in it and rally around it. The new time has arrived, and with it good fortune. And just as the sun shines forth in redoubled beauty after rain, or as a forest grows more freshly green from charred ruins after a fire, so the new era appears all the more glorious by contrast with the misery of the old.\\n\\nNine at the top means:\\n\\nThere is drinking of wine\\nIn genuine confidence. No blame.\\nBut if one wets his head,\\nHe loses it, in truth.\\n\\nBefore completion, at the dawning of the new time, friends foregather in an atmosphere of mutual trust, and the time of waiting is passed in conviviality. Since the new era is hard on the threshold, there is no blame in this. But one must be careful in all this to keep within proper bounds. If in his exuberance a man gets drunk, he forfeits the favorableness of the situation through his intemperance.\\n\"}"
     },
     "metadata": {},
     "execution_count": 10
    }
   ],
   "source": [
    "iching_extented_start[64]"
   ]
  },
  {
   "cell_type": "markdown",
   "metadata": {},
   "source": [
    "## Write to I-Ching Wilhelm Translation"
   ]
  },
  {
   "cell_type": "code",
   "execution_count": 12,
   "metadata": {},
   "outputs": [],
   "source": [
    "with open('./data/iching_wilhelm_translation.json', 'w') as outfile:\n",
    "    json.dump(iching_extented_start, outfile)"
   ]
  },
  {
   "cell_type": "code",
   "execution_count": null,
   "metadata": {},
   "outputs": [],
   "source": []
  }
 ],
 "metadata": {
  "language_info": {
   "codemirror_mode": {
    "name": "ipython",
    "version": 3
   },
   "file_extension": ".py",
   "mimetype": "text/x-python",
   "name": "python",
   "nbconvert_exporter": "python",
   "pygments_lexer": "ipython3",
   "version": "3.6.9-final"
  },
  "orig_nbformat": 2,
  "kernelspec": {
   "name": "drlnd",
   "display_name": "drlnd"
  }
 },
 "nbformat": 4,
 "nbformat_minor": 2
}